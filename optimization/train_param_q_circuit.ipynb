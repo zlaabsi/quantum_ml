{
 "cells": [
  {
   "cell_type": "markdown",
   "metadata": {},
   "source": [
    "# Training parameterized quantum circuits"
   ]
  },
  {
   "cell_type": "code",
   "execution_count": null,
   "metadata": {},
   "outputs": [],
   "source": [
    "from qiskit.circuit.library import RealAmplitudes\n",
    "\n",
    "ansatz = RealAmplitudes(num_qubits=2, reps=1,\n",
    "                        entanglement='linear').decompose()\n",
    "ansatz.draw()"
   ]
  },
  {
   "cell_type": "code",
   "execution_count": null,
   "metadata": {},
   "outputs": [],
   "source": [
    "from qiskit.opflow import Z, I\n",
    "\n",
    "hamiltonian = Z ^ Z"
   ]
  },
  {
   "cell_type": "code",
   "execution_count": null,
   "metadata": {},
   "outputs": [],
   "source": [
    "from qiskit.opflow import StateFn, PauliExpectation\n",
    "\n",
    "expectation = StateFn(hamiltonian, is_measurement=True) @ StateFn(ansatz)\n",
    "pauli_basis = PauliExpectation().convert(expectation)"
   ]
  },
  {
   "cell_type": "code",
   "execution_count": null,
   "metadata": {},
   "outputs": [],
   "source": [
    "from qiskit import Aer\n",
    "from qiskit.utils import QuantumInstance\n",
    "from qiskit.opflow import PauliExpectation, CircuitSampler\n",
    "\n",
    "quantum_instance = QuantumInstance(Aer.get_backend('qasm_simulator'),\n",
    "                                   # we'll set a seed for reproducibility\n",
    "                                   shots = 8192, seed_simulator = 2718,\n",
    "                                   seed_transpiler = 2718)\n",
    "sampler = CircuitSampler(quantum_instance)\n",
    "\n",
    "def evaluate_expectation(x):\n",
    "    value_dict = dict(zip(ansatz.parameters, x))\n",
    "    result = sampler.convert(pauli_basis, params=value_dict).eval()  \n",
    "    return np.real(result)"
   ]
  },
  {
   "cell_type": "code",
   "execution_count": null,
   "metadata": {},
   "outputs": [],
   "source": [
    "import numpy as np\n",
    "\n",
    "point = np.random.random(ansatz.num_parameters)\n",
    "index = 2"
   ]
  },
  {
   "cell_type": "code",
   "execution_count": null,
   "metadata": {},
   "outputs": [],
   "source": [
    "eps = 0.2\n",
    "# make identity vector with a 1 at index ``index``, otherwise 0\n",
    "e_i = np.identity(point.size)[:, index]\n",
    "\n",
    "plus = point + eps * e_i\n",
    "minus = point - eps * e_i\n",
    "\n",
    "finite_difference = (\n",
    "    evaluate_expectation(plus) - evaluate_expectation(minus)) / (2 * eps)\n",
    "print(finite_difference)"
   ]
  },
  {
   "cell_type": "code",
   "execution_count": null,
   "metadata": {},
   "outputs": [],
   "source": [
    "from qiskit.opflow import Gradient\n",
    "\n",
    "shifter = Gradient('fin_diff', analytic=False, epsilon=eps)\n",
    "grad = shifter.convert(expectation, params=ansatz.parameters[index])\n",
    "print(grad)\n",
    "\n",
    "value_dict = dict(zip(ansatz.parameters, point))\n",
    "sampler.convert(grad, value_dict).eval().real"
   ]
  },
  {
   "cell_type": "code",
   "execution_count": null,
   "metadata": {},
   "outputs": [],
   "source": [
    "eps = np.pi / 2\n",
    "e_i = np.identity(point.size)[:, index]\n",
    "\n",
    "plus = point + eps * e_i\n",
    "minus = point - eps * e_i\n",
    "\n",
    "finite_difference = (\n",
    "    evaluate_expectation(plus) - evaluate_expectation(minus)) / 2\n",
    "\n",
    "print(finite_difference)"
   ]
  },
  {
   "cell_type": "code",
   "execution_count": null,
   "metadata": {},
   "outputs": [],
   "source": [
    "shifter = Gradient()  # parameter-shift rule is the default\n",
    "grad = shifter.convert(expectation, params=ansatz.parameters[index])\n",
    "sampler.convert(grad, value_dict).eval().real"
   ]
  },
  {
   "cell_type": "code",
   "execution_count": null,
   "metadata": {},
   "outputs": [],
   "source": [
    "# initial_point = np.random.random(ansatz.num_parameters)\n",
    "initial_point = np.array([0.43253681, 0.09507794, 0.42805949, 0.34210341])"
   ]
  },
  {
   "cell_type": "code",
   "execution_count": null,
   "metadata": {},
   "outputs": [],
   "source": [
    "gradient = Gradient().convert(expectation)\n",
    "gradient_in_pauli_basis = PauliExpectation().convert(gradient)\n",
    "sampler = CircuitSampler(quantum_instance)\n",
    "\n",
    "def evaluate_gradient(x):\n",
    "    value_dict = dict(zip(ansatz.parameters, x))\n",
    "    result = sampler.convert(gradient_in_pauli_basis,\n",
    "                             params=value_dict).eval()\n",
    "    return np.real(result)"
   ]
  },
  {
   "cell_type": "code",
   "execution_count": null,
   "metadata": {},
   "outputs": [],
   "source": [
    "from qiskit.algorithms.optimizers import GradientDescent\n",
    "\n",
    "gd_loss = []\n",
    "def gd_callback(nfevs, x, fx, stepsize):\n",
    "    gd_loss.append(fx)\n",
    "    \n",
    "gd = GradientDescent(maxiter=300,\n",
    "                     learning_rate=0.01,\n",
    "                     callback=gd_callback)"
   ]
  },
  {
   "cell_type": "code",
   "execution_count": null,
   "metadata": {},
   "outputs": [],
   "source": [
    "x_opt, fx_opt, nfevs = gd.optimize(\n",
    "    initial_point.size,    # number of parameters\n",
    "    evaluate_expectation,  # function to minimize\n",
    "    gradient_function=evaluate_gradient,  # function to evaluate gradient\n",
    "    initial_point=initial_point  # initial point\n",
    ")\n",
    "\n",
    "import matplotlib \n",
    "import matplotlib.pyplot as plt\n",
    "import numpy as np\n",
    "\n",
    "plt.figure(figsize=(7, 3))\n",
    "plt.plot(gd_loss, label='vanilla gradient descent')\n",
    "plt.axhline(-1, ls='--', c='C3', label='target')\n",
    "plt.ylabel('loss')\n",
    "plt.xlabel('iterations')\n",
    "plt.legend();"
   ]
  }
 ],
 "metadata": {
  "language_info": {
   "name": "python"
  },
  "orig_nbformat": 4
 },
 "nbformat": 4,
 "nbformat_minor": 2
}
