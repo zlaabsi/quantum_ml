{
  "cells": [
    {
      "cell_type": "code",
      "execution_count": 3,
      "metadata": {
        "collapsed": false
      },
      "outputs": [],
      "source": [
        "# This cell is added by sphinx-gallery\n",
        "# It can be customized to whatever you like\n",
        "%matplotlib inline"
      ]
    },
    {
      "cell_type": "markdown",
      "metadata": {},
      "source": [
        "Accelerating VQEs with quantum natural gradient\n",
        "===============================================\n",
        "\n",
        "*Authors: Maggie Li, Lana Bozanic, Sukin Sim (<ssim@g.harvard.edu>).\n",
        "Last updated: 8 Apr 2021.*\n",
        "\n",
        "This tutorial showcases how one can apply quantum natural gradients\n",
        "(QNG) \\[\\#stokes2019\\]\\_ \\[\\#yamamoto2019\\]\\_ to accelerate the\n",
        "optimization step of the Variational Quantum Eigensolver (VQE) algorithm\n",
        "\\[\\#peruzzo2014\\]\\_. We will implement two small examples: estimating\n",
        "the ground state energy of (1) a single-qubit VQE problem, which we can\n",
        "visualize using the Bloch sphere, and (2) the hydrogen molecule.\n",
        "\n",
        "Before going through this tutorial, we recommend that readers refer to\n",
        "the QNG tutorial &lt;/demos/tutorial\\_quantum\\_natural\\_gradient&gt; and\n",
        "VQE tutorial &lt;/demos/tutorial\\_vqe&gt; for overviews of quantum\n",
        "natural gradient and the variational quantum eigensolver algorithm,\n",
        "respectively. Let's get started!\n",
        "\n",
        "(1) Single-qubit VQE example\n",
        "----------------------------\n",
        "\n",
        "The first step is to import the required libraries and packages:\n"
      ]
    },
    {
      "cell_type": "code",
      "execution_count": 4,
      "metadata": {
        "collapsed": false
      },
      "outputs": [],
      "source": [
        "import matplotlib.pyplot as plt\n",
        "from pennylane import numpy as np\n",
        "import pennylane as qml"
      ]
    },
    {
      "cell_type": "markdown",
      "metadata": {},
      "source": [
        "For this simple example, we consider the following single-qubit\n",
        "Hamiltonian: $\\sigma_x + \\sigma_z$.\n",
        "\n",
        "We define the device:\n"
      ]
    },
    {
      "cell_type": "code",
      "execution_count": 5,
      "metadata": {
        "collapsed": false
      },
      "outputs": [],
      "source": [
        "dev = qml.device(\"default.qubit\", wires=1)"
      ]
    },
    {
      "cell_type": "markdown",
      "metadata": {},
      "source": [
        "For the variational ansatz, we use two single-qubit rotations, which the\n",
        "user may recognize from a previous\n",
        "tutorial &lt;/demos/tutorial\\_qubit\\_rotation&gt; on qubit rotations.\n"
      ]
    },
    {
      "cell_type": "code",
      "execution_count": 6,
      "metadata": {
        "collapsed": false
      },
      "outputs": [],
      "source": [
        "def circuit(params, wires=0):\n",
        "    qml.RX(params[0], wires=wires)\n",
        "    qml.RY(params[1], wires=wires)"
      ]
    },
    {
      "cell_type": "markdown",
      "metadata": {},
      "source": [
        "We then define our cost function which supports the computation of\n",
        "block-diagonal or diagonal approximations to the Fubini-Study metric\n",
        "tensor \\[\\#stokes2019\\]\\_. This tensor is a crucial component for\n",
        "optimizing with quantum natural gradients.\n"
      ]
    },
    {
      "cell_type": "code",
      "execution_count": 7,
      "metadata": {
        "collapsed": false
      },
      "outputs": [],
      "source": [
        "coeffs = [1, 1]\n",
        "obs = [qml.PauliX(0), qml.PauliZ(0)]\n",
        "\n",
        "H = qml.Hamiltonian(coeffs, obs)\n",
        "\n",
        "@qml.qnode(dev)\n",
        "def cost_fn(params):\n",
        "    circuit(params)\n",
        "    return qml.expval(H)"
      ]
    },
    {
      "cell_type": "markdown",
      "metadata": {},
      "source": [
        "To analyze the performance of quantum natural gradient on VQE\n",
        "calculations, we set up and execute optimizations using the\n",
        "`GradientDescentOptimizer` (which does not utilize quantum gradients)\n",
        "and the `QNGOptimizer` that uses the block-diagonal approximation to the\n",
        "metric tensor.\n",
        "\n",
        "To perform a fair comparison, we fix the initial parameters for the two\n",
        "optimizers.\n"
      ]
    },
    {
      "cell_type": "code",
      "execution_count": 8,
      "metadata": {
        "collapsed": false
      },
      "outputs": [],
      "source": [
        "init_params = np.array([3.97507603, 3.00854038], requires_grad=True)"
      ]
    },
    {
      "cell_type": "markdown",
      "metadata": {},
      "source": [
        "We will carry out each optimization over a maximum of 500 steps. As was\n",
        "done in the VQE tutorial, we aim to reach a convergence tolerance of\n",
        "around $10^{-6}$. We use a step size of 0.01.\n"
      ]
    },
    {
      "cell_type": "code",
      "execution_count": 9,
      "metadata": {
        "collapsed": false
      },
      "outputs": [],
      "source": [
        "max_iterations = 500\n",
        "conv_tol = 1e-06\n",
        "step_size = 0.01"
      ]
    },
    {
      "cell_type": "markdown",
      "metadata": {},
      "source": [
        "First, we carry out the VQE optimization using the standard gradient\n",
        "descent method.\n"
      ]
    },
    {
      "cell_type": "code",
      "execution_count": 10,
      "metadata": {
        "collapsed": false
      },
      "outputs": [
        {
          "name": "stdout",
          "output_type": "stream",
          "text": [
            "Iteration = 0,  Energy = 0.56743624 Ha,  Convergence parameter = 0.00973536 Ha\n",
            "Iteration = 20,  Energy = 0.38709233 Ha,  Convergence parameter = 0.00821261 Ha\n",
            "Iteration = 40,  Energy = 0.24420954 Ha,  Convergence parameter = 0.00616395 Ha\n",
            "Iteration = 60,  Energy = 0.14079686 Ha,  Convergence parameter = 0.00435028 Ha\n",
            "Iteration = 80,  Energy = 0.06758408 Ha,  Convergence parameter = 0.00314443 Ha\n",
            "Iteration = 100,  Energy = 0.01128048 Ha,  Convergence parameter = 0.00262544 Ha\n",
            "Iteration = 120,  Energy = -0.04175219 Ha,  Convergence parameter = 0.00278160 Ha\n",
            "Iteration = 140,  Energy = -0.10499504 Ha,  Convergence parameter = 0.00361450 Ha\n",
            "Iteration = 160,  Energy = -0.19195848 Ha,  Convergence parameter = 0.00511056 Ha\n",
            "Iteration = 180,  Energy = -0.31444953 Ha,  Convergence parameter = 0.00708743 Ha\n",
            "Iteration = 200,  Energy = -0.47706980 Ha,  Convergence parameter = 0.00900220 Ha\n",
            "Iteration = 220,  Energy = -0.66993027 Ha,  Convergence parameter = 0.01001574 Ha\n",
            "Iteration = 240,  Energy = -0.86789981 Ha,  Convergence parameter = 0.00955105 Ha\n",
            "Iteration = 260,  Energy = -1.04241317 Ha,  Convergence parameter = 0.00783834 Ha\n",
            "Iteration = 280,  Energy = -1.17653061 Ha,  Convergence parameter = 0.00567546 Ha\n",
            "Iteration = 300,  Energy = -1.26906291 Ha,  Convergence parameter = 0.00374812 Ha\n",
            "Iteration = 320,  Energy = -1.32823089 Ha,  Convergence parameter = 0.00232769 Ha\n",
            "Iteration = 340,  Energy = -1.36424033 Ha,  Convergence parameter = 0.00139097 Ha\n",
            "Iteration = 360,  Energy = -1.38549883 Ha,  Convergence parameter = 0.00081221 Ha\n",
            "Iteration = 380,  Energy = -1.39782393 Ha,  Convergence parameter = 0.00046788 Ha\n",
            "Iteration = 400,  Energy = -1.40489478 Ha,  Convergence parameter = 0.00026743 Ha\n",
            "Iteration = 420,  Energy = -1.40892679 Ha,  Convergence parameter = 0.00015217 Ha\n",
            "Iteration = 440,  Energy = -1.41121801 Ha,  Convergence parameter = 0.00008637 Ha\n",
            "Iteration = 460,  Energy = -1.41251745 Ha,  Convergence parameter = 0.00004895 Ha\n",
            "Iteration = 480,  Energy = -1.41325360 Ha,  Convergence parameter = 0.00002772 Ha\n",
            "\n",
            "Final value of the energy = -1.41365468 Ha\n",
            "Number of iterations =  499\n"
          ]
        }
      ],
      "source": [
        "opt = qml.GradientDescentOptimizer(stepsize=step_size)\n",
        "\n",
        "params = init_params\n",
        "\n",
        "gd_param_history = [params]\n",
        "gd_cost_history = []\n",
        "\n",
        "for n in range(max_iterations):\n",
        "\n",
        "    # Take step\n",
        "    params, prev_energy = opt.step_and_cost(cost_fn, params)\n",
        "    gd_param_history.append(params)\n",
        "    gd_cost_history.append(prev_energy)\n",
        "\n",
        "    energy = cost_fn(params)\n",
        "\n",
        "    # Calculate difference between new and old energies\n",
        "    conv = np.abs(energy - prev_energy)\n",
        "\n",
        "    if n % 20 == 0:\n",
        "        print(\n",
        "            \"Iteration = {:},  Energy = {:.8f} Ha,  Convergence parameter = {\"\n",
        "            \":.8f} Ha\".format(n, energy, conv)\n",
        "        )\n",
        "\n",
        "    if conv <= conv_tol:\n",
        "        break\n",
        "\n",
        "print()\n",
        "print(\"Final value of the energy = {:.8f} Ha\".format(energy))\n",
        "print(\"Number of iterations = \", n)"
      ]
    },
    {
      "cell_type": "markdown",
      "metadata": {},
      "source": [
        "We then repeat the process for the optimizer employing quantum natural\n",
        "gradients:\n"
      ]
    },
    {
      "cell_type": "code",
      "execution_count": 11,
      "metadata": {
        "collapsed": false
      },
      "outputs": [
        {
          "name": "stdout",
          "output_type": "stream",
          "text": [
            "Iteration = 0,  Energy = 0.51052556 Ha,  Convergence parameter = 0.06664604 Ha\n",
            "Iteration = 20,  Energy = -0.90729965 Ha,  Convergence parameter = 0.05006082 Ha\n",
            "Iteration = 40,  Energy = -1.35504644 Ha,  Convergence parameter = 0.00713113 Ha\n",
            "Iteration = 60,  Energy = -1.40833787 Ha,  Convergence parameter = 0.00072399 Ha\n",
            "Iteration = 80,  Energy = -1.41364035 Ha,  Convergence parameter = 0.00007078 Ha\n",
            "Iteration = 100,  Energy = -1.41415774 Ha,  Convergence parameter = 0.00000689 Ha\n",
            "\n",
            "Final value of the energy = -1.41420585 Ha\n",
            "Number of iterations =  117\n"
          ]
        }
      ],
      "source": [
        "opt = qml.QNGOptimizer(stepsize=step_size, approx=\"block-diag\")\n",
        "\n",
        "params = init_params\n",
        "\n",
        "qngd_param_history = [params]\n",
        "qngd_cost_history = []\n",
        "\n",
        "for n in range(max_iterations):\n",
        "\n",
        "    # Take step\n",
        "    params, prev_energy = opt.step_and_cost(cost_fn, params)\n",
        "    qngd_param_history.append(params)\n",
        "    qngd_cost_history.append(prev_energy)\n",
        "\n",
        "    # Compute energy\n",
        "    energy = cost_fn(params)\n",
        "\n",
        "    # Calculate difference between new and old energies\n",
        "    conv = np.abs(energy - prev_energy)\n",
        "\n",
        "    if n % 20 == 0:\n",
        "        print(\n",
        "            \"Iteration = {:},  Energy = {:.8f} Ha,  Convergence parameter = {\"\n",
        "            \":.8f} Ha\".format(n, energy, conv)\n",
        "        )\n",
        "\n",
        "    if conv <= conv_tol:\n",
        "        break\n",
        "\n",
        "print()\n",
        "print(\"Final value of the energy = {:.8f} Ha\".format(energy))\n",
        "print(\"Number of iterations = \", n)"
      ]
    },
    {
      "cell_type": "markdown",
      "metadata": {},
      "source": [
        "Visualizing the results\n",
        "=======================\n",
        "\n",
        "For single-qubit examples, we can visualize the optimization process in\n",
        "several ways.\n",
        "\n",
        "For example, we can track the energy history:\n"
      ]
    },
    {
      "cell_type": "code",
      "execution_count": 12,
      "metadata": {
        "collapsed": false
      },
      "outputs": [
        {
          "data": {
            "image/png": "[encoded data removed]",
            "text/plain": [
              "<Figure size 576x396 with 1 Axes>"
            ]
          },
          "metadata": {},
          "output_type": "display_data"
        }
      ],
      "source": [
        "plt.style.use(\"seaborn\")\n",
        "plt.plot(gd_cost_history, \"b\", label=\"Gradient descent\")\n",
        "plt.plot(qngd_cost_history, \"g\", label=\"Quantum natural gradient descent\")\n",
        "\n",
        "plt.ylabel(\"Cost function value\")\n",
        "plt.xlabel(\"Optimization steps\")\n",
        "plt.legend()\n",
        "plt.show()"
      ]
    },
    {
      "cell_type": "markdown",
      "metadata": {},
      "source": [
        "Or we can visualize the optimization path in the parameter space using a\n",
        "contour plot. Energies at different grid points have been pre-computed,\n",
        "and they can be downloaded by clicking\n",
        "here&lt;../demonstrations/vqe\\_qng/param\\_landscape.npy&gt;.\n"
      ]
    },
    {
      "cell_type": "code",
      "execution_count": 25,
      "metadata": {
        "collapsed": false
      },
      "outputs": [
        {
          "ename": "FileNotFoundError",
          "evalue": "[Errno 2] No such file or directory: 'param_landscape.npy'",
          "output_type": "error",
          "traceback": [
            "\u001b[1;31m---------------------------------------------------------------------------\u001b[0m",
            "\u001b[1;31mFileNotFoundError\u001b[0m                         Traceback (most recent call last)",
            "\u001b[1;32m<ipython-input-25-15e7c148745a>\u001b[0m in \u001b[0;36m<module>\u001b[1;34m\u001b[0m\n\u001b[0;32m      4\u001b[0m \u001b[1;33m\u001b[0m\u001b[0m\n\u001b[0;32m      5\u001b[0m \u001b[1;31m# Load energy value at each point in parameter space\u001b[0m\u001b[1;33m\u001b[0m\u001b[1;33m\u001b[0m\u001b[1;33m\u001b[0m\u001b[0m\n\u001b[1;32m----> 6\u001b[1;33m \u001b[0mparameter_landscape\u001b[0m \u001b[1;33m=\u001b[0m \u001b[0mnp\u001b[0m\u001b[1;33m.\u001b[0m\u001b[0mload\u001b[0m\u001b[1;33m(\u001b[0m\u001b[1;34m\"param_landscape.npy\"\u001b[0m\u001b[1;33m)\u001b[0m\u001b[1;33m\u001b[0m\u001b[1;33m\u001b[0m\u001b[0m\n\u001b[0m\u001b[0;32m      7\u001b[0m \u001b[1;33m\u001b[0m\u001b[0m\n\u001b[0;32m      8\u001b[0m \u001b[1;31m# Plot energy landscape\u001b[0m\u001b[1;33m\u001b[0m\u001b[1;33m\u001b[0m\u001b[1;33m\u001b[0m\u001b[0m\n",
            "\u001b[1;32mC:\\tools\\Anaconda3\\lib\\site-packages\\pennylane\\numpy\\wrapper.py\u001b[0m in \u001b[0;36m_wrapped\u001b[1;34m(*args, **kwargs)\u001b[0m\n\u001b[0;32m     73\u001b[0m \u001b[1;33m\u001b[0m\u001b[0m\n\u001b[0;32m     74\u001b[0m         \u001b[1;31m# evaluate the original object\u001b[0m\u001b[1;33m\u001b[0m\u001b[1;33m\u001b[0m\u001b[1;33m\u001b[0m\u001b[0m\n\u001b[1;32m---> 75\u001b[1;33m         \u001b[0mres\u001b[0m \u001b[1;33m=\u001b[0m \u001b[0mobj\u001b[0m\u001b[1;33m(\u001b[0m\u001b[1;33m*\u001b[0m\u001b[0margs\u001b[0m\u001b[1;33m,\u001b[0m \u001b[1;33m**\u001b[0m\u001b[0mkwargs\u001b[0m\u001b[1;33m)\u001b[0m\u001b[1;33m\u001b[0m\u001b[1;33m\u001b[0m\u001b[0m\n\u001b[0m\u001b[0;32m     76\u001b[0m \u001b[1;33m\u001b[0m\u001b[0m\n\u001b[0;32m     77\u001b[0m         \u001b[1;32mif\u001b[0m \u001b[0misinstance\u001b[0m\u001b[1;33m(\u001b[0m\u001b[0mres\u001b[0m\u001b[1;33m,\u001b[0m \u001b[0m_np\u001b[0m\u001b[1;33m.\u001b[0m\u001b[0mndarray\u001b[0m\u001b[1;33m)\u001b[0m\u001b[1;33m:\u001b[0m\u001b[1;33m\u001b[0m\u001b[1;33m\u001b[0m\u001b[0m\n",
            "\u001b[1;32mC:\\tools\\Anaconda3\\lib\\site-packages\\autograd\\tracer.py\u001b[0m in \u001b[0;36mf_wrapped\u001b[1;34m(*args, **kwargs)\u001b[0m\n\u001b[0;32m     46\u001b[0m             \u001b[1;32mreturn\u001b[0m \u001b[0mnew_box\u001b[0m\u001b[1;33m(\u001b[0m\u001b[0mans\u001b[0m\u001b[1;33m,\u001b[0m \u001b[0mtrace\u001b[0m\u001b[1;33m,\u001b[0m \u001b[0mnode\u001b[0m\u001b[1;33m)\u001b[0m\u001b[1;33m\u001b[0m\u001b[1;33m\u001b[0m\u001b[0m\n\u001b[0;32m     47\u001b[0m         \u001b[1;32melse\u001b[0m\u001b[1;33m:\u001b[0m\u001b[1;33m\u001b[0m\u001b[1;33m\u001b[0m\u001b[0m\n\u001b[1;32m---> 48\u001b[1;33m             \u001b[1;32mreturn\u001b[0m \u001b[0mf_raw\u001b[0m\u001b[1;33m(\u001b[0m\u001b[1;33m*\u001b[0m\u001b[0margs\u001b[0m\u001b[1;33m,\u001b[0m \u001b[1;33m**\u001b[0m\u001b[0mkwargs\u001b[0m\u001b[1;33m)\u001b[0m\u001b[1;33m\u001b[0m\u001b[1;33m\u001b[0m\u001b[0m\n\u001b[0m\u001b[0;32m     49\u001b[0m     \u001b[0mf_wrapped\u001b[0m\u001b[1;33m.\u001b[0m\u001b[0mfun\u001b[0m \u001b[1;33m=\u001b[0m \u001b[0mf_raw\u001b[0m\u001b[1;33m\u001b[0m\u001b[1;33m\u001b[0m\u001b[0m\n\u001b[0;32m     50\u001b[0m     \u001b[0mf_wrapped\u001b[0m\u001b[1;33m.\u001b[0m\u001b[0m_is_autograd_primitive\u001b[0m \u001b[1;33m=\u001b[0m \u001b[1;32mTrue\u001b[0m\u001b[1;33m\u001b[0m\u001b[1;33m\u001b[0m\u001b[0m\n",
            "\u001b[1;32m~\\AppData\\Roaming\\Python\\Python38\\site-packages\\numpy\\lib\\npyio.py\u001b[0m in \u001b[0;36mload\u001b[1;34m(file, mmap_mode, allow_pickle, fix_imports, encoding)\u001b[0m\n\u001b[0;32m    415\u001b[0m             \u001b[0mown_fid\u001b[0m \u001b[1;33m=\u001b[0m \u001b[1;32mFalse\u001b[0m\u001b[1;33m\u001b[0m\u001b[1;33m\u001b[0m\u001b[0m\n\u001b[0;32m    416\u001b[0m         \u001b[1;32melse\u001b[0m\u001b[1;33m:\u001b[0m\u001b[1;33m\u001b[0m\u001b[1;33m\u001b[0m\u001b[0m\n\u001b[1;32m--> 417\u001b[1;33m             \u001b[0mfid\u001b[0m \u001b[1;33m=\u001b[0m \u001b[0mstack\u001b[0m\u001b[1;33m.\u001b[0m\u001b[0menter_context\u001b[0m\u001b[1;33m(\u001b[0m\u001b[0mopen\u001b[0m\u001b[1;33m(\u001b[0m\u001b[0mos_fspath\u001b[0m\u001b[1;33m(\u001b[0m\u001b[0mfile\u001b[0m\u001b[1;33m)\u001b[0m\u001b[1;33m,\u001b[0m \u001b[1;34m\"rb\"\u001b[0m\u001b[1;33m)\u001b[0m\u001b[1;33m)\u001b[0m\u001b[1;33m\u001b[0m\u001b[1;33m\u001b[0m\u001b[0m\n\u001b[0m\u001b[0;32m    418\u001b[0m             \u001b[0mown_fid\u001b[0m \u001b[1;33m=\u001b[0m \u001b[1;32mTrue\u001b[0m\u001b[1;33m\u001b[0m\u001b[1;33m\u001b[0m\u001b[0m\n\u001b[0;32m    419\u001b[0m \u001b[1;33m\u001b[0m\u001b[0m\n",
            "\u001b[1;31mFileNotFoundError\u001b[0m: [Errno 2] No such file or directory: 'param_landscape.npy'"
          ]
        }
      ],
      "source": [
        "# Discretize the parameter space\n",
        "theta0 = np.linspace(0.0, 2.0 * np.pi, 100)\n",
        "theta1 = np.linspace(0.0, 2.0 * np.pi, 100)\n",
        "\n",
        "# Load energy value at each point in parameter space\n",
        "parameter_landscape = np.load(\"param_landscape.npy\")\n",
        "\n",
        "# Plot energy landscape\n",
        "fig, axes = plt.subplots(figsize=(6, 6))\n",
        "cmap = plt.cm.get_cmap(\"coolwarm\")\n",
        "contour_plot = plt.contourf(theta0, theta1, parameter_landscape, cmap=cmap)\n",
        "plt.xlabel(r\"$\\theta_0$\")\n",
        "plt.ylabel(r\"$\\theta_1$\")\n",
        "\n",
        "# Plot optimization path for gradient descent. Plot every 10th point.\n",
        "gd_color = \"g\"\n",
        "plt.plot(\n",
        "    np.array(gd_param_history)[::10, 0],\n",
        "    np.array(gd_param_history)[::10, 1],\n",
        "    \".\",\n",
        "    color=gd_color,\n",
        "    linewidth=1,\n",
        "    label=\"Gradient descent\",\n",
        ")\n",
        "plt.plot(\n",
        "    np.array(gd_param_history)[:, 0],\n",
        "    np.array(gd_param_history)[:, 1],\n",
        "    \"-\",\n",
        "    color=gd_color,\n",
        "    linewidth=1,\n",
        ")\n",
        "\n",
        "# Plot optimization path for quantum natural gradient descent. Plot every 10th point.\n",
        "qngd_color = \"k\"\n",
        "plt.plot(\n",
        "    np.array(qngd_param_history)[::10, 0],\n",
        "    np.array(qngd_param_history)[::10, 1],\n",
        "    \".\",\n",
        "    color=qngd_color,\n",
        "    linewidth=1,\n",
        "    label=\"Quantum natural gradient descent\",\n",
        ")\n",
        "plt.plot(\n",
        "    np.array(qngd_param_history)[:, 0],\n",
        "    np.array(qngd_param_history)[:, 1],\n",
        "    \"-\",\n",
        "    color=qngd_color,\n",
        "    linewidth=1,\n",
        ")\n",
        "\n",
        "plt.legend()\n",
        "plt.show()"
      ]
    },
    {
      "cell_type": "markdown",
      "metadata": {},
      "source": [
        "Here, the blue regions indicate states with lower energies, and the red\n",
        "regions indicate states with higher energies. We can see that the\n",
        "`QNGOptimizer` takes a more direct route to the minimum in larger\n",
        "strides compared to the path taken by the `GradientDescentOptimizer`.\n",
        "\n",
        "Lastly, we can visualize the same optimization paths on the Bloch sphere\n",
        "using routines from [QuTiP](http://qutip.org/). The result should look\n",
        "like the following:\n",
        "\n",
        "![](/demonstrations/vqe_qng/opt_paths_bloch.png){width=\"50%\"}\n",
        "\n",
        "where again the black markers and line indicate the path taken by the\n",
        "`QNGOptimizer`, and the green markers and line indicate the path taken\n",
        "by the `GradientDescentOptimizer`. Using this visualization method, we\n",
        "can clearly see how the path using the `QNGOptimizer` tightly \"hugs\" the\n",
        "curvature of the Bloch sphere and takes the shorter path.\n",
        "\n",
        "Now, we will move onto a more interesting example: estimating the ground\n",
        "state energy of molecular hydrogen.\n",
        "\n",
        "(2) Hydrogen VQE Example\n",
        "========================\n",
        "\n",
        "To construct our system Hamiltonian, we first read the molecular\n",
        "geometry from the external file h2.xyz &lt;/demonstrations/h2.xyz&gt;\n",
        "using the \\~.pennylane\\_qchem.qchem.read\\_structure function (see more\n",
        "details in the tutorial\\_quantum\\_chemistry tutorial). The molecular\n",
        "Hamiltonian is then built using the\n",
        "\\~.pennylane\\_qchem.qchem.molecular\\_hamiltonian function.\n"
      ]
    },
    {
      "cell_type": "code",
      "execution_count": 14,
      "metadata": {
        "collapsed": false
      },
      "outputs": [
        {
          "ename": "ImportError",
          "evalue": "PennyLane-QChem not installed. \n\nTo access the qchem module, you can install PennyLane-QChem via pip:\n\npip install pennylane-qchem\n\nFor more details, see the quantum chemistry documentation:\nhttps://pennylane.readthedocs.io/en/stable/introduction/chemistry.html",
          "output_type": "error",
          "traceback": [
            "\u001b[1;31m---------------------------------------------------------------------------\u001b[0m",
            "\u001b[1;31mImportError\u001b[0m                               Traceback (most recent call last)",
            "\u001b[1;32m<ipython-input-14-976d483bbe1c>\u001b[0m in \u001b[0;36m<module>\u001b[1;34m\u001b[0m\n\u001b[0;32m      1\u001b[0m \u001b[0mgeo_file\u001b[0m \u001b[1;33m=\u001b[0m \u001b[1;34m\"h2.xyz\"\u001b[0m\u001b[1;33m\u001b[0m\u001b[1;33m\u001b[0m\u001b[0m\n\u001b[0;32m      2\u001b[0m \u001b[1;33m\u001b[0m\u001b[0m\n\u001b[1;32m----> 3\u001b[1;33m \u001b[0msymbols\u001b[0m\u001b[1;33m,\u001b[0m \u001b[0mcoordinates\u001b[0m \u001b[1;33m=\u001b[0m \u001b[0mqml\u001b[0m\u001b[1;33m.\u001b[0m\u001b[0mqchem\u001b[0m\u001b[1;33m.\u001b[0m\u001b[0mread_structure\u001b[0m\u001b[1;33m(\u001b[0m\u001b[0mgeo_file\u001b[0m\u001b[1;33m)\u001b[0m\u001b[1;33m\u001b[0m\u001b[1;33m\u001b[0m\u001b[0m\n\u001b[0m\u001b[0;32m      4\u001b[0m \u001b[0mhamiltonian\u001b[0m\u001b[1;33m,\u001b[0m \u001b[0mqubits\u001b[0m \u001b[1;33m=\u001b[0m \u001b[0mqml\u001b[0m\u001b[1;33m.\u001b[0m\u001b[0mqchem\u001b[0m\u001b[1;33m.\u001b[0m\u001b[0mmolecular_hamiltonian\u001b[0m\u001b[1;33m(\u001b[0m\u001b[0msymbols\u001b[0m\u001b[1;33m,\u001b[0m \u001b[0mcoordinates\u001b[0m\u001b[1;33m)\u001b[0m\u001b[1;33m\u001b[0m\u001b[1;33m\u001b[0m\u001b[0m\n\u001b[0;32m      5\u001b[0m \u001b[1;33m\u001b[0m\u001b[0m\n",
            "\u001b[1;32mC:\\tools\\Anaconda3\\lib\\site-packages\\pennylane\\__init__.py\u001b[0m in \u001b[0;36m__getattr__\u001b[1;34m(name)\u001b[0m\n\u001b[0;32m    334\u001b[0m \u001b[1;33m\u001b[0m\u001b[0m\n\u001b[0;32m    335\u001b[0m             \u001b[1;32mif\u001b[0m \u001b[0m_qchem\u001b[0m \u001b[1;32mis\u001b[0m \u001b[1;32mNone\u001b[0m\u001b[1;33m:\u001b[0m\u001b[1;33m\u001b[0m\u001b[1;33m\u001b[0m\u001b[0m\n\u001b[1;32m--> 336\u001b[1;33m                 raise ImportError(\n\u001b[0m\u001b[0;32m    337\u001b[0m                     \u001b[1;34m\"PennyLane-QChem not installed. \\n\\nTo access the qchem \"\u001b[0m\u001b[1;33m\u001b[0m\u001b[1;33m\u001b[0m\u001b[0m\n\u001b[0;32m    338\u001b[0m                     \u001b[1;34m\"module, you can install PennyLane-QChem via pip:\"\u001b[0m\u001b[1;33m\u001b[0m\u001b[1;33m\u001b[0m\u001b[0m\n",
            "\u001b[1;31mImportError\u001b[0m: PennyLane-QChem not installed. \n\nTo access the qchem module, you can install PennyLane-QChem via pip:\n\npip install pennylane-qchem\n\nFor more details, see the quantum chemistry documentation:\nhttps://pennylane.readthedocs.io/en/stable/introduction/chemistry.html"
          ]
        }
      ],
      "source": [
        "geo_file = \"h2.xyz\"\n",
        "\n",
        "symbols, coordinates = qml.qchem.read_structure(geo_file)\n",
        "hamiltonian, qubits = qml.qchem.molecular_hamiltonian(symbols, coordinates)\n",
        "\n",
        "print(\"Number of qubits = \", qubits)"
      ]
    },
    {
      "cell_type": "markdown",
      "metadata": {},
      "source": [
        "For our ansatz, we use the circuit from the [VQE\n",
        "tutorial](https://pennylane.ai/qml/demos/tutorial_vqe.html) but expand\n",
        "out the arbitrary single-qubit rotations to elementary gates (RZ-RY-RZ).\n"
      ]
    },
    {
      "cell_type": "code",
      "execution_count": 16,
      "metadata": {
        "collapsed": false
      },
      "outputs": [
        {
          "ename": "NameError",
          "evalue": "name 'qubits' is not defined",
          "output_type": "error",
          "traceback": [
            "\u001b[1;31m---------------------------------------------------------------------------\u001b[0m",
            "\u001b[1;31mNameError\u001b[0m                                 Traceback (most recent call last)",
            "\u001b[1;32m<ipython-input-16-53965120a2c1>\u001b[0m in \u001b[0;36m<module>\u001b[1;34m\u001b[0m\n\u001b[1;32m----> 1\u001b[1;33m \u001b[0mdev\u001b[0m \u001b[1;33m=\u001b[0m \u001b[0mqml\u001b[0m\u001b[1;33m.\u001b[0m\u001b[0mdevice\u001b[0m\u001b[1;33m(\u001b[0m\u001b[1;34m\"default.qubit\"\u001b[0m\u001b[1;33m,\u001b[0m \u001b[0mwires\u001b[0m\u001b[1;33m=\u001b[0m\u001b[0mqubits\u001b[0m\u001b[1;33m)\u001b[0m\u001b[1;33m\u001b[0m\u001b[1;33m\u001b[0m\u001b[0m\n\u001b[0m\u001b[0;32m      2\u001b[0m \u001b[0mhf_state\u001b[0m \u001b[1;33m=\u001b[0m \u001b[0mnp\u001b[0m\u001b[1;33m.\u001b[0m\u001b[0marray\u001b[0m\u001b[1;33m(\u001b[0m\u001b[1;33m[\u001b[0m\u001b[1;36m1\u001b[0m\u001b[1;33m,\u001b[0m \u001b[1;36m1\u001b[0m\u001b[1;33m,\u001b[0m \u001b[1;36m0\u001b[0m\u001b[1;33m,\u001b[0m \u001b[1;36m0\u001b[0m\u001b[1;33m]\u001b[0m\u001b[1;33m,\u001b[0m \u001b[0mrequires_grad\u001b[0m\u001b[1;33m=\u001b[0m\u001b[1;32mFalse\u001b[0m\u001b[1;33m)\u001b[0m\u001b[1;33m\u001b[0m\u001b[1;33m\u001b[0m\u001b[0m\n\u001b[0;32m      3\u001b[0m \u001b[1;33m\u001b[0m\u001b[0m\n\u001b[0;32m      4\u001b[0m \u001b[1;32mdef\u001b[0m \u001b[0mansatz\u001b[0m\u001b[1;33m(\u001b[0m\u001b[0mparams\u001b[0m\u001b[1;33m,\u001b[0m \u001b[0mwires\u001b[0m\u001b[1;33m=\u001b[0m\u001b[1;33m[\u001b[0m\u001b[1;36m0\u001b[0m\u001b[1;33m,\u001b[0m \u001b[1;36m1\u001b[0m\u001b[1;33m,\u001b[0m \u001b[1;36m2\u001b[0m\u001b[1;33m,\u001b[0m \u001b[1;36m3\u001b[0m\u001b[1;33m]\u001b[0m\u001b[1;33m)\u001b[0m\u001b[1;33m:\u001b[0m\u001b[1;33m\u001b[0m\u001b[1;33m\u001b[0m\u001b[0m\n\u001b[0;32m      5\u001b[0m     \u001b[0mqml\u001b[0m\u001b[1;33m.\u001b[0m\u001b[0mBasisState\u001b[0m\u001b[1;33m(\u001b[0m\u001b[0mhf_state\u001b[0m\u001b[1;33m,\u001b[0m \u001b[0mwires\u001b[0m\u001b[1;33m=\u001b[0m\u001b[0mwires\u001b[0m\u001b[1;33m)\u001b[0m\u001b[1;33m\u001b[0m\u001b[1;33m\u001b[0m\u001b[0m\n",
            "\u001b[1;31mNameError\u001b[0m: name 'qubits' is not defined"
          ]
        }
      ],
      "source": [
        "dev = qml.device(\"default.qubit\", wires=qubits)\n",
        "hf_state = np.array([1, 1, 0, 0], requires_grad=False)\n",
        "\n",
        "def ansatz(params, wires=[0, 1, 2, 3]):\n",
        "    qml.BasisState(hf_state, wires=wires)\n",
        "    for i in wires:\n",
        "        qml.RZ(params[3 * i], wires=i)\n",
        "        qml.RY(params[3 * i + 1], wires=i)\n",
        "        qml.RZ(params[3 * i + 2], wires=i)\n",
        "    qml.CNOT(wires=[2, 3])\n",
        "    qml.CNOT(wires=[2, 0])\n",
        "    qml.CNOT(wires=[3, 1])"
      ]
    },
    {
      "cell_type": "markdown",
      "metadata": {},
      "source": [
        "Note that the qubit register has been initialized to $|1100\\rangle$,\n",
        "which encodes for the Hartree-Fock state of the hydrogen molecule\n",
        "described in the minimal basis. Again, we define the cost function to be\n",
        "the following QNode that measures `expval(H)`:\n"
      ]
    },
    {
      "cell_type": "code",
      "execution_count": 17,
      "metadata": {
        "collapsed": false
      },
      "outputs": [],
      "source": [
        "@qml.qnode(dev)\n",
        "def cost(params):\n",
        "    ansatz(params)\n",
        "    return qml.expval(hamiltonian)"
      ]
    },
    {
      "cell_type": "markdown",
      "metadata": {},
      "source": [
        "For this problem, we can compute the exact value of the ground state\n",
        "energy via exact diagonalization. We provide the value below.\n"
      ]
    },
    {
      "cell_type": "code",
      "execution_count": 18,
      "metadata": {
        "collapsed": false
      },
      "outputs": [],
      "source": [
        "exact_value = -1.136189454088"
      ]
    },
    {
      "cell_type": "markdown",
      "metadata": {},
      "source": [
        "We now set up our optimizations runs.\n"
      ]
    },
    {
      "cell_type": "code",
      "execution_count": 19,
      "metadata": {
        "collapsed": false
      },
      "outputs": [],
      "source": [
        "np.random.seed(0)\n",
        "init_params = np.random.uniform(low=0, high=2 * np.pi, size=12, requires_grad=True)\n",
        "max_iterations = 500\n",
        "step_size = 0.5\n",
        "conv_tol = 1e-06"
      ]
    },
    {
      "cell_type": "markdown",
      "metadata": {},
      "source": [
        "As was done with our previous VQE example, we run the standard gradient\n",
        "descent optimizer.\n"
      ]
    },
    {
      "cell_type": "code",
      "execution_count": 20,
      "metadata": {
        "collapsed": false
      },
      "outputs": [
        {
          "ename": "NameError",
          "evalue": "name 'ansatz' is not defined",
          "output_type": "error",
          "traceback": [
            "\u001b[1;31m---------------------------------------------------------------------------\u001b[0m",
            "\u001b[1;31mNameError\u001b[0m                                 Traceback (most recent call last)",
            "\u001b[1;32m<ipython-input-20-dfc40b8a684d>\u001b[0m in \u001b[0;36m<module>\u001b[1;34m\u001b[0m\n\u001b[0;32m      6\u001b[0m \u001b[1;33m\u001b[0m\u001b[0m\n\u001b[0;32m      7\u001b[0m \u001b[1;32mfor\u001b[0m \u001b[0mn\u001b[0m \u001b[1;32min\u001b[0m \u001b[0mrange\u001b[0m\u001b[1;33m(\u001b[0m\u001b[0mmax_iterations\u001b[0m\u001b[1;33m)\u001b[0m\u001b[1;33m:\u001b[0m\u001b[1;33m\u001b[0m\u001b[1;33m\u001b[0m\u001b[0m\n\u001b[1;32m----> 8\u001b[1;33m     \u001b[0mparams\u001b[0m\u001b[1;33m,\u001b[0m \u001b[0mprev_energy\u001b[0m \u001b[1;33m=\u001b[0m \u001b[0mopt\u001b[0m\u001b[1;33m.\u001b[0m\u001b[0mstep_and_cost\u001b[0m\u001b[1;33m(\u001b[0m\u001b[0mcost\u001b[0m\u001b[1;33m,\u001b[0m \u001b[0mparams\u001b[0m\u001b[1;33m)\u001b[0m\u001b[1;33m\u001b[0m\u001b[1;33m\u001b[0m\u001b[0m\n\u001b[0m\u001b[0;32m      9\u001b[0m     \u001b[0mgd_cost\u001b[0m\u001b[1;33m.\u001b[0m\u001b[0mappend\u001b[0m\u001b[1;33m(\u001b[0m\u001b[0mprev_energy\u001b[0m\u001b[1;33m)\u001b[0m\u001b[1;33m\u001b[0m\u001b[1;33m\u001b[0m\u001b[0m\n\u001b[0;32m     10\u001b[0m \u001b[1;33m\u001b[0m\u001b[0m\n",
            "\u001b[1;32mC:\\tools\\Anaconda3\\lib\\site-packages\\pennylane\\optimize\\gradient_descent.py\u001b[0m in \u001b[0;36mstep_and_cost\u001b[1;34m(self, objective_fn, grad_fn, *args, **kwargs)\u001b[0m\n\u001b[0;32m     98\u001b[0m         \"\"\"\n\u001b[0;32m     99\u001b[0m \u001b[1;33m\u001b[0m\u001b[0m\n\u001b[1;32m--> 100\u001b[1;33m         \u001b[0mg\u001b[0m\u001b[1;33m,\u001b[0m \u001b[0mforward\u001b[0m \u001b[1;33m=\u001b[0m \u001b[0mself\u001b[0m\u001b[1;33m.\u001b[0m\u001b[0mcompute_grad\u001b[0m\u001b[1;33m(\u001b[0m\u001b[0mobjective_fn\u001b[0m\u001b[1;33m,\u001b[0m \u001b[0margs\u001b[0m\u001b[1;33m,\u001b[0m \u001b[0mkwargs\u001b[0m\u001b[1;33m,\u001b[0m \u001b[0mgrad_fn\u001b[0m\u001b[1;33m=\u001b[0m\u001b[0mgrad_fn\u001b[0m\u001b[1;33m)\u001b[0m\u001b[1;33m\u001b[0m\u001b[1;33m\u001b[0m\u001b[0m\n\u001b[0m\u001b[0;32m    101\u001b[0m         \u001b[0mnew_args\u001b[0m \u001b[1;33m=\u001b[0m \u001b[0mself\u001b[0m\u001b[1;33m.\u001b[0m\u001b[0mapply_grad\u001b[0m\u001b[1;33m(\u001b[0m\u001b[0mg\u001b[0m\u001b[1;33m,\u001b[0m \u001b[0margs\u001b[0m\u001b[1;33m)\u001b[0m\u001b[1;33m\u001b[0m\u001b[1;33m\u001b[0m\u001b[0m\n\u001b[0;32m    102\u001b[0m \u001b[1;33m\u001b[0m\u001b[0m\n",
            "\u001b[1;32mC:\\tools\\Anaconda3\\lib\\site-packages\\pennylane\\optimize\\gradient_descent.py\u001b[0m in \u001b[0;36mcompute_grad\u001b[1;34m(objective_fn, args, kwargs, grad_fn)\u001b[0m\n\u001b[0;32m    156\u001b[0m         \"\"\"\n\u001b[0;32m    157\u001b[0m         \u001b[0mg\u001b[0m \u001b[1;33m=\u001b[0m \u001b[0mget_gradient\u001b[0m\u001b[1;33m(\u001b[0m\u001b[0mobjective_fn\u001b[0m\u001b[1;33m)\u001b[0m \u001b[1;32mif\u001b[0m \u001b[0mgrad_fn\u001b[0m \u001b[1;32mis\u001b[0m \u001b[1;32mNone\u001b[0m \u001b[1;32melse\u001b[0m \u001b[0mgrad_fn\u001b[0m\u001b[1;33m\u001b[0m\u001b[1;33m\u001b[0m\u001b[0m\n\u001b[1;32m--> 158\u001b[1;33m         \u001b[0mgrad\u001b[0m \u001b[1;33m=\u001b[0m \u001b[0mg\u001b[0m\u001b[1;33m(\u001b[0m\u001b[1;33m*\u001b[0m\u001b[0margs\u001b[0m\u001b[1;33m,\u001b[0m \u001b[1;33m**\u001b[0m\u001b[0mkwargs\u001b[0m\u001b[1;33m)\u001b[0m\u001b[1;33m\u001b[0m\u001b[1;33m\u001b[0m\u001b[0m\n\u001b[0m\u001b[0;32m    159\u001b[0m         \u001b[0mforward\u001b[0m \u001b[1;33m=\u001b[0m \u001b[0mgetattr\u001b[0m\u001b[1;33m(\u001b[0m\u001b[0mg\u001b[0m\u001b[1;33m,\u001b[0m \u001b[1;34m\"forward\"\u001b[0m\u001b[1;33m,\u001b[0m \u001b[1;32mNone\u001b[0m\u001b[1;33m)\u001b[0m\u001b[1;33m\u001b[0m\u001b[1;33m\u001b[0m\u001b[0m\n\u001b[0;32m    160\u001b[0m \u001b[1;33m\u001b[0m\u001b[0m\n",
            "\u001b[1;32mC:\\tools\\Anaconda3\\lib\\site-packages\\pennylane\\_grad.py\u001b[0m in \u001b[0;36m__call__\u001b[1;34m(self, *args, **kwargs)\u001b[0m\n\u001b[0;32m    118\u001b[0m         \"\"\"Evaluates the gradient function, and saves the function value\n\u001b[0;32m    119\u001b[0m         calculated during the forward pass in :attr:`.forward`.\"\"\"\n\u001b[1;32m--> 120\u001b[1;33m         \u001b[0mgrad_value\u001b[0m\u001b[1;33m,\u001b[0m \u001b[0mans\u001b[0m \u001b[1;33m=\u001b[0m \u001b[0mself\u001b[0m\u001b[1;33m.\u001b[0m\u001b[0m_get_grad_fn\u001b[0m\u001b[1;33m(\u001b[0m\u001b[0margs\u001b[0m\u001b[1;33m)\u001b[0m\u001b[1;33m(\u001b[0m\u001b[1;33m*\u001b[0m\u001b[0margs\u001b[0m\u001b[1;33m,\u001b[0m \u001b[1;33m**\u001b[0m\u001b[0mkwargs\u001b[0m\u001b[1;33m)\u001b[0m\u001b[1;33m\u001b[0m\u001b[1;33m\u001b[0m\u001b[0m\n\u001b[0m\u001b[0;32m    121\u001b[0m         \u001b[0mself\u001b[0m\u001b[1;33m.\u001b[0m\u001b[0m_forward\u001b[0m \u001b[1;33m=\u001b[0m \u001b[0mans\u001b[0m\u001b[1;33m\u001b[0m\u001b[1;33m\u001b[0m\u001b[0m\n\u001b[0;32m    122\u001b[0m         \u001b[1;32mreturn\u001b[0m \u001b[0mgrad_value\u001b[0m\u001b[1;33m\u001b[0m\u001b[1;33m\u001b[0m\u001b[0m\n",
            "\u001b[1;32mC:\\tools\\Anaconda3\\lib\\site-packages\\autograd\\wrap_util.py\u001b[0m in \u001b[0;36mnary_f\u001b[1;34m(*args, **kwargs)\u001b[0m\n\u001b[0;32m     18\u001b[0m             \u001b[1;32melse\u001b[0m\u001b[1;33m:\u001b[0m\u001b[1;33m\u001b[0m\u001b[1;33m\u001b[0m\u001b[0m\n\u001b[0;32m     19\u001b[0m                 \u001b[0mx\u001b[0m \u001b[1;33m=\u001b[0m \u001b[0mtuple\u001b[0m\u001b[1;33m(\u001b[0m\u001b[0margs\u001b[0m\u001b[1;33m[\u001b[0m\u001b[0mi\u001b[0m\u001b[1;33m]\u001b[0m \u001b[1;32mfor\u001b[0m \u001b[0mi\u001b[0m \u001b[1;32min\u001b[0m \u001b[0margnum\u001b[0m\u001b[1;33m)\u001b[0m\u001b[1;33m\u001b[0m\u001b[1;33m\u001b[0m\u001b[0m\n\u001b[1;32m---> 20\u001b[1;33m             \u001b[1;32mreturn\u001b[0m \u001b[0munary_operator\u001b[0m\u001b[1;33m(\u001b[0m\u001b[0munary_f\u001b[0m\u001b[1;33m,\u001b[0m \u001b[0mx\u001b[0m\u001b[1;33m,\u001b[0m \u001b[1;33m*\u001b[0m\u001b[0mnary_op_args\u001b[0m\u001b[1;33m,\u001b[0m \u001b[1;33m**\u001b[0m\u001b[0mnary_op_kwargs\u001b[0m\u001b[1;33m)\u001b[0m\u001b[1;33m\u001b[0m\u001b[1;33m\u001b[0m\u001b[0m\n\u001b[0m\u001b[0;32m     21\u001b[0m         \u001b[1;32mreturn\u001b[0m \u001b[0mnary_f\u001b[0m\u001b[1;33m\u001b[0m\u001b[1;33m\u001b[0m\u001b[0m\n\u001b[0;32m     22\u001b[0m     \u001b[1;32mreturn\u001b[0m \u001b[0mnary_operator\u001b[0m\u001b[1;33m\u001b[0m\u001b[1;33m\u001b[0m\u001b[0m\n",
            "\u001b[1;32mC:\\tools\\Anaconda3\\lib\\site-packages\\pennylane\\_grad.py\u001b[0m in \u001b[0;36m_grad_with_forward\u001b[1;34m(fun, x)\u001b[0m\n\u001b[0;32m    135\u001b[0m         \u001b[0mdifference\u001b[0m \u001b[0mbeing\u001b[0m \u001b[0mthat\u001b[0m \u001b[0mit\u001b[0m \u001b[0mreturns\u001b[0m \u001b[0mboth\u001b[0m \u001b[0mthe\u001b[0m \u001b[0mgradient\u001b[0m \u001b[1;33m*\u001b[0m\u001b[1;32mand\u001b[0m\u001b[1;33m*\u001b[0m \u001b[0mthe\u001b[0m \u001b[0mforward\u001b[0m \u001b[1;32mpass\u001b[0m\u001b[1;33m\u001b[0m\u001b[1;33m\u001b[0m\u001b[0m\n\u001b[0;32m    136\u001b[0m         value.\"\"\"\n\u001b[1;32m--> 137\u001b[1;33m         \u001b[0mvjp\u001b[0m\u001b[1;33m,\u001b[0m \u001b[0mans\u001b[0m \u001b[1;33m=\u001b[0m \u001b[0m_make_vjp\u001b[0m\u001b[1;33m(\u001b[0m\u001b[0mfun\u001b[0m\u001b[1;33m,\u001b[0m \u001b[0mx\u001b[0m\u001b[1;33m)\u001b[0m\u001b[1;33m\u001b[0m\u001b[1;33m\u001b[0m\u001b[0m\n\u001b[0m\u001b[0;32m    138\u001b[0m \u001b[1;33m\u001b[0m\u001b[0m\n\u001b[0;32m    139\u001b[0m         \u001b[1;32mif\u001b[0m \u001b[1;32mnot\u001b[0m \u001b[0mvspace\u001b[0m\u001b[1;33m(\u001b[0m\u001b[0mans\u001b[0m\u001b[1;33m)\u001b[0m\u001b[1;33m.\u001b[0m\u001b[0msize\u001b[0m \u001b[1;33m==\u001b[0m \u001b[1;36m1\u001b[0m\u001b[1;33m:\u001b[0m\u001b[1;33m\u001b[0m\u001b[1;33m\u001b[0m\u001b[0m\n",
            "\u001b[1;32mC:\\tools\\Anaconda3\\lib\\site-packages\\autograd\\core.py\u001b[0m in \u001b[0;36mmake_vjp\u001b[1;34m(fun, x)\u001b[0m\n\u001b[0;32m      8\u001b[0m \u001b[1;32mdef\u001b[0m \u001b[0mmake_vjp\u001b[0m\u001b[1;33m(\u001b[0m\u001b[0mfun\u001b[0m\u001b[1;33m,\u001b[0m \u001b[0mx\u001b[0m\u001b[1;33m)\u001b[0m\u001b[1;33m:\u001b[0m\u001b[1;33m\u001b[0m\u001b[1;33m\u001b[0m\u001b[0m\n\u001b[0;32m      9\u001b[0m     \u001b[0mstart_node\u001b[0m \u001b[1;33m=\u001b[0m \u001b[0mVJPNode\u001b[0m\u001b[1;33m.\u001b[0m\u001b[0mnew_root\u001b[0m\u001b[1;33m(\u001b[0m\u001b[1;33m)\u001b[0m\u001b[1;33m\u001b[0m\u001b[1;33m\u001b[0m\u001b[0m\n\u001b[1;32m---> 10\u001b[1;33m     \u001b[0mend_value\u001b[0m\u001b[1;33m,\u001b[0m \u001b[0mend_node\u001b[0m \u001b[1;33m=\u001b[0m  \u001b[0mtrace\u001b[0m\u001b[1;33m(\u001b[0m\u001b[0mstart_node\u001b[0m\u001b[1;33m,\u001b[0m \u001b[0mfun\u001b[0m\u001b[1;33m,\u001b[0m \u001b[0mx\u001b[0m\u001b[1;33m)\u001b[0m\u001b[1;33m\u001b[0m\u001b[1;33m\u001b[0m\u001b[0m\n\u001b[0m\u001b[0;32m     11\u001b[0m     \u001b[1;32mif\u001b[0m \u001b[0mend_node\u001b[0m \u001b[1;32mis\u001b[0m \u001b[1;32mNone\u001b[0m\u001b[1;33m:\u001b[0m\u001b[1;33m\u001b[0m\u001b[1;33m\u001b[0m\u001b[0m\n\u001b[0;32m     12\u001b[0m         \u001b[1;32mdef\u001b[0m \u001b[0mvjp\u001b[0m\u001b[1;33m(\u001b[0m\u001b[0mg\u001b[0m\u001b[1;33m)\u001b[0m\u001b[1;33m:\u001b[0m \u001b[1;32mreturn\u001b[0m \u001b[0mvspace\u001b[0m\u001b[1;33m(\u001b[0m\u001b[0mx\u001b[0m\u001b[1;33m)\u001b[0m\u001b[1;33m.\u001b[0m\u001b[0mzeros\u001b[0m\u001b[1;33m(\u001b[0m\u001b[1;33m)\u001b[0m\u001b[1;33m\u001b[0m\u001b[1;33m\u001b[0m\u001b[0m\n",
            "\u001b[1;32mC:\\tools\\Anaconda3\\lib\\site-packages\\autograd\\tracer.py\u001b[0m in \u001b[0;36mtrace\u001b[1;34m(start_node, fun, x)\u001b[0m\n\u001b[0;32m      8\u001b[0m     \u001b[1;32mwith\u001b[0m \u001b[0mtrace_stack\u001b[0m\u001b[1;33m.\u001b[0m\u001b[0mnew_trace\u001b[0m\u001b[1;33m(\u001b[0m\u001b[1;33m)\u001b[0m \u001b[1;32mas\u001b[0m \u001b[0mt\u001b[0m\u001b[1;33m:\u001b[0m\u001b[1;33m\u001b[0m\u001b[1;33m\u001b[0m\u001b[0m\n\u001b[0;32m      9\u001b[0m         \u001b[0mstart_box\u001b[0m \u001b[1;33m=\u001b[0m \u001b[0mnew_box\u001b[0m\u001b[1;33m(\u001b[0m\u001b[0mx\u001b[0m\u001b[1;33m,\u001b[0m \u001b[0mt\u001b[0m\u001b[1;33m,\u001b[0m \u001b[0mstart_node\u001b[0m\u001b[1;33m)\u001b[0m\u001b[1;33m\u001b[0m\u001b[1;33m\u001b[0m\u001b[0m\n\u001b[1;32m---> 10\u001b[1;33m         \u001b[0mend_box\u001b[0m \u001b[1;33m=\u001b[0m \u001b[0mfun\u001b[0m\u001b[1;33m(\u001b[0m\u001b[0mstart_box\u001b[0m\u001b[1;33m)\u001b[0m\u001b[1;33m\u001b[0m\u001b[1;33m\u001b[0m\u001b[0m\n\u001b[0m\u001b[0;32m     11\u001b[0m         \u001b[1;32mif\u001b[0m \u001b[0misbox\u001b[0m\u001b[1;33m(\u001b[0m\u001b[0mend_box\u001b[0m\u001b[1;33m)\u001b[0m \u001b[1;32mand\u001b[0m \u001b[0mend_box\u001b[0m\u001b[1;33m.\u001b[0m\u001b[0m_trace\u001b[0m \u001b[1;33m==\u001b[0m \u001b[0mstart_box\u001b[0m\u001b[1;33m.\u001b[0m\u001b[0m_trace\u001b[0m\u001b[1;33m:\u001b[0m\u001b[1;33m\u001b[0m\u001b[1;33m\u001b[0m\u001b[0m\n\u001b[0;32m     12\u001b[0m             \u001b[1;32mreturn\u001b[0m \u001b[0mend_box\u001b[0m\u001b[1;33m.\u001b[0m\u001b[0m_value\u001b[0m\u001b[1;33m,\u001b[0m \u001b[0mend_box\u001b[0m\u001b[1;33m.\u001b[0m\u001b[0m_node\u001b[0m\u001b[1;33m\u001b[0m\u001b[1;33m\u001b[0m\u001b[0m\n",
            "\u001b[1;32mC:\\tools\\Anaconda3\\lib\\site-packages\\autograd\\wrap_util.py\u001b[0m in \u001b[0;36munary_f\u001b[1;34m(x)\u001b[0m\n\u001b[0;32m     13\u001b[0m                 \u001b[1;32melse\u001b[0m\u001b[1;33m:\u001b[0m\u001b[1;33m\u001b[0m\u001b[1;33m\u001b[0m\u001b[0m\n\u001b[0;32m     14\u001b[0m                     \u001b[0msubargs\u001b[0m \u001b[1;33m=\u001b[0m \u001b[0msubvals\u001b[0m\u001b[1;33m(\u001b[0m\u001b[0margs\u001b[0m\u001b[1;33m,\u001b[0m \u001b[0mzip\u001b[0m\u001b[1;33m(\u001b[0m\u001b[0margnum\u001b[0m\u001b[1;33m,\u001b[0m \u001b[0mx\u001b[0m\u001b[1;33m)\u001b[0m\u001b[1;33m)\u001b[0m\u001b[1;33m\u001b[0m\u001b[1;33m\u001b[0m\u001b[0m\n\u001b[1;32m---> 15\u001b[1;33m                 \u001b[1;32mreturn\u001b[0m \u001b[0mfun\u001b[0m\u001b[1;33m(\u001b[0m\u001b[1;33m*\u001b[0m\u001b[0msubargs\u001b[0m\u001b[1;33m,\u001b[0m \u001b[1;33m**\u001b[0m\u001b[0mkwargs\u001b[0m\u001b[1;33m)\u001b[0m\u001b[1;33m\u001b[0m\u001b[1;33m\u001b[0m\u001b[0m\n\u001b[0m\u001b[0;32m     16\u001b[0m             \u001b[1;32mif\u001b[0m \u001b[0misinstance\u001b[0m\u001b[1;33m(\u001b[0m\u001b[0margnum\u001b[0m\u001b[1;33m,\u001b[0m \u001b[0mint\u001b[0m\u001b[1;33m)\u001b[0m\u001b[1;33m:\u001b[0m\u001b[1;33m\u001b[0m\u001b[1;33m\u001b[0m\u001b[0m\n\u001b[0;32m     17\u001b[0m                 \u001b[0mx\u001b[0m \u001b[1;33m=\u001b[0m \u001b[0margs\u001b[0m\u001b[1;33m[\u001b[0m\u001b[0margnum\u001b[0m\u001b[1;33m]\u001b[0m\u001b[1;33m\u001b[0m\u001b[1;33m\u001b[0m\u001b[0m\n",
            "\u001b[1;32mC:\\tools\\Anaconda3\\lib\\site-packages\\pennylane\\qnode.py\u001b[0m in \u001b[0;36m__call__\u001b[1;34m(self, *args, **kwargs)\u001b[0m\n\u001b[0;32m    554\u001b[0m \u001b[1;33m\u001b[0m\u001b[0m\n\u001b[0;32m    555\u001b[0m         \u001b[1;31m# construct the tape\u001b[0m\u001b[1;33m\u001b[0m\u001b[1;33m\u001b[0m\u001b[1;33m\u001b[0m\u001b[0m\n\u001b[1;32m--> 556\u001b[1;33m         \u001b[0mself\u001b[0m\u001b[1;33m.\u001b[0m\u001b[0mconstruct\u001b[0m\u001b[1;33m(\u001b[0m\u001b[0margs\u001b[0m\u001b[1;33m,\u001b[0m \u001b[0mkwargs\u001b[0m\u001b[1;33m)\u001b[0m\u001b[1;33m\u001b[0m\u001b[1;33m\u001b[0m\u001b[0m\n\u001b[0m\u001b[0;32m    557\u001b[0m \u001b[1;33m\u001b[0m\u001b[0m\n\u001b[0;32m    558\u001b[0m         \u001b[1;31m# preprocess the tapes by applying any device-specific transforms\u001b[0m\u001b[1;33m\u001b[0m\u001b[1;33m\u001b[0m\u001b[1;33m\u001b[0m\u001b[0m\n",
            "\u001b[1;32mC:\\tools\\Anaconda3\\lib\\site-packages\\pennylane\\qnode.py\u001b[0m in \u001b[0;36mconstruct\u001b[1;34m(self, args, kwargs)\u001b[0m\n\u001b[0;32m    492\u001b[0m \u001b[1;33m\u001b[0m\u001b[0m\n\u001b[0;32m    493\u001b[0m         \u001b[1;32mwith\u001b[0m \u001b[0mself\u001b[0m\u001b[1;33m.\u001b[0m\u001b[0mtape\u001b[0m\u001b[1;33m:\u001b[0m\u001b[1;33m\u001b[0m\u001b[1;33m\u001b[0m\u001b[0m\n\u001b[1;32m--> 494\u001b[1;33m             \u001b[0mself\u001b[0m\u001b[1;33m.\u001b[0m\u001b[0m_qfunc_output\u001b[0m \u001b[1;33m=\u001b[0m \u001b[0mself\u001b[0m\u001b[1;33m.\u001b[0m\u001b[0mfunc\u001b[0m\u001b[1;33m(\u001b[0m\u001b[1;33m*\u001b[0m\u001b[0margs\u001b[0m\u001b[1;33m,\u001b[0m \u001b[1;33m**\u001b[0m\u001b[0mkwargs\u001b[0m\u001b[1;33m)\u001b[0m\u001b[1;33m\u001b[0m\u001b[1;33m\u001b[0m\u001b[0m\n\u001b[0m\u001b[0;32m    495\u001b[0m \u001b[1;33m\u001b[0m\u001b[0m\n\u001b[0;32m    496\u001b[0m         \u001b[0mparams\u001b[0m \u001b[1;33m=\u001b[0m \u001b[0mself\u001b[0m\u001b[1;33m.\u001b[0m\u001b[0mtape\u001b[0m\u001b[1;33m.\u001b[0m\u001b[0mget_parameters\u001b[0m\u001b[1;33m(\u001b[0m\u001b[0mtrainable_only\u001b[0m\u001b[1;33m=\u001b[0m\u001b[1;32mFalse\u001b[0m\u001b[1;33m)\u001b[0m\u001b[1;33m\u001b[0m\u001b[1;33m\u001b[0m\u001b[0m\n",
            "\u001b[1;32m<ipython-input-17-dbdbae8fc6f4>\u001b[0m in \u001b[0;36mcost\u001b[1;34m(params)\u001b[0m\n\u001b[0;32m      1\u001b[0m \u001b[1;33m@\u001b[0m\u001b[0mqml\u001b[0m\u001b[1;33m.\u001b[0m\u001b[0mqnode\u001b[0m\u001b[1;33m(\u001b[0m\u001b[0mdev\u001b[0m\u001b[1;33m)\u001b[0m\u001b[1;33m\u001b[0m\u001b[1;33m\u001b[0m\u001b[0m\n\u001b[0;32m      2\u001b[0m \u001b[1;32mdef\u001b[0m \u001b[0mcost\u001b[0m\u001b[1;33m(\u001b[0m\u001b[0mparams\u001b[0m\u001b[1;33m)\u001b[0m\u001b[1;33m:\u001b[0m\u001b[1;33m\u001b[0m\u001b[1;33m\u001b[0m\u001b[0m\n\u001b[1;32m----> 3\u001b[1;33m     \u001b[0mansatz\u001b[0m\u001b[1;33m(\u001b[0m\u001b[0mparams\u001b[0m\u001b[1;33m)\u001b[0m\u001b[1;33m\u001b[0m\u001b[1;33m\u001b[0m\u001b[0m\n\u001b[0m\u001b[0;32m      4\u001b[0m     \u001b[1;32mreturn\u001b[0m \u001b[0mqml\u001b[0m\u001b[1;33m.\u001b[0m\u001b[0mexpval\u001b[0m\u001b[1;33m(\u001b[0m\u001b[0mhamiltonian\u001b[0m\u001b[1;33m)\u001b[0m\u001b[1;33m\u001b[0m\u001b[1;33m\u001b[0m\u001b[0m\n",
            "\u001b[1;31mNameError\u001b[0m: name 'ansatz' is not defined"
          ]
        }
      ],
      "source": [
        "opt = qml.GradientDescentOptimizer(step_size)\n",
        "\n",
        "params = init_params\n",
        "\n",
        "gd_cost = []\n",
        "\n",
        "for n in range(max_iterations):\n",
        "    params, prev_energy = opt.step_and_cost(cost, params)\n",
        "    gd_cost.append(prev_energy)\n",
        "\n",
        "    energy = cost(params)\n",
        "    conv = np.abs(energy - prev_energy)\n",
        "\n",
        "    if n % 20 == 0:\n",
        "        print(\n",
        "            \"Iteration = {:},  Energy = {:.8f} Ha\".format(n, energy)\n",
        "        )\n",
        "\n",
        "    if conv <= conv_tol:\n",
        "        break\n",
        "\n",
        "\n",
        "print()\n",
        "print(\"Final convergence parameter = {:.8f} Ha\".format(conv))\n",
        "print(\"Number of iterations = \", n)\n",
        "print(\"Final value of the ground-state energy = {:.8f} Ha\".format(energy))\n",
        "print(\n",
        "    \"Accuracy with respect to the FCI energy: {:.8f} Ha ({:.8f} kcal/mol)\".format(\n",
        "        np.abs(energy - exact_value), np.abs(energy - exact_value) * 627.503\n",
        "    )\n",
        ")\n",
        "print()\n",
        "print(\"Final circuit parameters = \\n\", params)"
      ]
    },
    {
      "cell_type": "markdown",
      "metadata": {},
      "source": [
        "Next, we run the optimizer employing quantum natural gradients.\n"
      ]
    },
    {
      "cell_type": "code",
      "execution_count": 22,
      "metadata": {
        "collapsed": false
      },
      "outputs": [
        {
          "ename": "NameError",
          "evalue": "name 'ansatz' is not defined",
          "output_type": "error",
          "traceback": [
            "\u001b[1;31m---------------------------------------------------------------------------\u001b[0m",
            "\u001b[1;31mNameError\u001b[0m                                 Traceback (most recent call last)",
            "\u001b[1;32m<ipython-input-22-fd863a13b743>\u001b[0m in \u001b[0;36m<module>\u001b[1;34m\u001b[0m\n\u001b[0;32m      2\u001b[0m \u001b[1;33m\u001b[0m\u001b[0m\n\u001b[0;32m      3\u001b[0m \u001b[0mparams\u001b[0m \u001b[1;33m=\u001b[0m \u001b[0minit_params\u001b[0m\u001b[1;33m\u001b[0m\u001b[1;33m\u001b[0m\u001b[0m\n\u001b[1;32m----> 4\u001b[1;33m \u001b[0mprev_energy\u001b[0m \u001b[1;33m=\u001b[0m \u001b[0mcost\u001b[0m\u001b[1;33m(\u001b[0m\u001b[0mparams\u001b[0m\u001b[1;33m)\u001b[0m\u001b[1;33m\u001b[0m\u001b[1;33m\u001b[0m\u001b[0m\n\u001b[0m\u001b[0;32m      5\u001b[0m \u001b[0mqngd_cost\u001b[0m \u001b[1;33m=\u001b[0m \u001b[1;33m[\u001b[0m\u001b[1;33m]\u001b[0m\u001b[1;33m\u001b[0m\u001b[1;33m\u001b[0m\u001b[0m\n\u001b[0;32m      6\u001b[0m \u001b[1;33m\u001b[0m\u001b[0m\n",
            "\u001b[1;32mC:\\tools\\Anaconda3\\lib\\site-packages\\pennylane\\qnode.py\u001b[0m in \u001b[0;36m__call__\u001b[1;34m(self, *args, **kwargs)\u001b[0m\n\u001b[0;32m    554\u001b[0m \u001b[1;33m\u001b[0m\u001b[0m\n\u001b[0;32m    555\u001b[0m         \u001b[1;31m# construct the tape\u001b[0m\u001b[1;33m\u001b[0m\u001b[1;33m\u001b[0m\u001b[1;33m\u001b[0m\u001b[0m\n\u001b[1;32m--> 556\u001b[1;33m         \u001b[0mself\u001b[0m\u001b[1;33m.\u001b[0m\u001b[0mconstruct\u001b[0m\u001b[1;33m(\u001b[0m\u001b[0margs\u001b[0m\u001b[1;33m,\u001b[0m \u001b[0mkwargs\u001b[0m\u001b[1;33m)\u001b[0m\u001b[1;33m\u001b[0m\u001b[1;33m\u001b[0m\u001b[0m\n\u001b[0m\u001b[0;32m    557\u001b[0m \u001b[1;33m\u001b[0m\u001b[0m\n\u001b[0;32m    558\u001b[0m         \u001b[1;31m# preprocess the tapes by applying any device-specific transforms\u001b[0m\u001b[1;33m\u001b[0m\u001b[1;33m\u001b[0m\u001b[1;33m\u001b[0m\u001b[0m\n",
            "\u001b[1;32mC:\\tools\\Anaconda3\\lib\\site-packages\\pennylane\\qnode.py\u001b[0m in \u001b[0;36mconstruct\u001b[1;34m(self, args, kwargs)\u001b[0m\n\u001b[0;32m    492\u001b[0m \u001b[1;33m\u001b[0m\u001b[0m\n\u001b[0;32m    493\u001b[0m         \u001b[1;32mwith\u001b[0m \u001b[0mself\u001b[0m\u001b[1;33m.\u001b[0m\u001b[0mtape\u001b[0m\u001b[1;33m:\u001b[0m\u001b[1;33m\u001b[0m\u001b[1;33m\u001b[0m\u001b[0m\n\u001b[1;32m--> 494\u001b[1;33m             \u001b[0mself\u001b[0m\u001b[1;33m.\u001b[0m\u001b[0m_qfunc_output\u001b[0m \u001b[1;33m=\u001b[0m \u001b[0mself\u001b[0m\u001b[1;33m.\u001b[0m\u001b[0mfunc\u001b[0m\u001b[1;33m(\u001b[0m\u001b[1;33m*\u001b[0m\u001b[0margs\u001b[0m\u001b[1;33m,\u001b[0m \u001b[1;33m**\u001b[0m\u001b[0mkwargs\u001b[0m\u001b[1;33m)\u001b[0m\u001b[1;33m\u001b[0m\u001b[1;33m\u001b[0m\u001b[0m\n\u001b[0m\u001b[0;32m    495\u001b[0m \u001b[1;33m\u001b[0m\u001b[0m\n\u001b[0;32m    496\u001b[0m         \u001b[0mparams\u001b[0m \u001b[1;33m=\u001b[0m \u001b[0mself\u001b[0m\u001b[1;33m.\u001b[0m\u001b[0mtape\u001b[0m\u001b[1;33m.\u001b[0m\u001b[0mget_parameters\u001b[0m\u001b[1;33m(\u001b[0m\u001b[0mtrainable_only\u001b[0m\u001b[1;33m=\u001b[0m\u001b[1;32mFalse\u001b[0m\u001b[1;33m)\u001b[0m\u001b[1;33m\u001b[0m\u001b[1;33m\u001b[0m\u001b[0m\n",
            "\u001b[1;32m<ipython-input-17-dbdbae8fc6f4>\u001b[0m in \u001b[0;36mcost\u001b[1;34m(params)\u001b[0m\n\u001b[0;32m      1\u001b[0m \u001b[1;33m@\u001b[0m\u001b[0mqml\u001b[0m\u001b[1;33m.\u001b[0m\u001b[0mqnode\u001b[0m\u001b[1;33m(\u001b[0m\u001b[0mdev\u001b[0m\u001b[1;33m)\u001b[0m\u001b[1;33m\u001b[0m\u001b[1;33m\u001b[0m\u001b[0m\n\u001b[0;32m      2\u001b[0m \u001b[1;32mdef\u001b[0m \u001b[0mcost\u001b[0m\u001b[1;33m(\u001b[0m\u001b[0mparams\u001b[0m\u001b[1;33m)\u001b[0m\u001b[1;33m:\u001b[0m\u001b[1;33m\u001b[0m\u001b[1;33m\u001b[0m\u001b[0m\n\u001b[1;32m----> 3\u001b[1;33m     \u001b[0mansatz\u001b[0m\u001b[1;33m(\u001b[0m\u001b[0mparams\u001b[0m\u001b[1;33m)\u001b[0m\u001b[1;33m\u001b[0m\u001b[1;33m\u001b[0m\u001b[0m\n\u001b[0m\u001b[0;32m      4\u001b[0m     \u001b[1;32mreturn\u001b[0m \u001b[0mqml\u001b[0m\u001b[1;33m.\u001b[0m\u001b[0mexpval\u001b[0m\u001b[1;33m(\u001b[0m\u001b[0mhamiltonian\u001b[0m\u001b[1;33m)\u001b[0m\u001b[1;33m\u001b[0m\u001b[1;33m\u001b[0m\u001b[0m\n",
            "\u001b[1;31mNameError\u001b[0m: name 'ansatz' is not defined"
          ]
        }
      ],
      "source": [
        "opt = qml.QNGOptimizer(step_size, lam=0.001, approx=\"block-diag\")\n",
        "\n",
        "params = init_params\n",
        "prev_energy = cost(params)\n",
        "qngd_cost = []\n",
        "\n",
        "for n in range(max_iterations):\n",
        "    params, prev_energy = opt.step_and_cost(cost, params)\n",
        "    qngd_cost.append(prev_energy)\n",
        "\n",
        "    energy = cost(params)\n",
        "    conv = np.abs(energy - prev_energy)\n",
        "\n",
        "    if n % 4 == 0:\n",
        "        print(\n",
        "            \"Iteration = {:},  Energy = {:.8f} Ha\".format(n, energy)\n",
        "        )\n",
        "\n",
        "    if conv <= conv_tol:\n",
        "        break\n",
        "\n",
        "\n",
        "print(\"\\nFinal convergence parameter = {:.8f} Ha\".format(conv))\n",
        "print(\"Number of iterations = \", n)\n",
        "print(\"Final value of the ground-state energy = {:.8f} Ha\".format(energy))\n",
        "print(\n",
        "    \"Accuracy with respect to the FCI energy: {:.8f} Ha ({:.8f} kcal/mol)\".format(\n",
        "        np.abs(energy - exact_value), np.abs(energy - exact_value) * 627.503\n",
        "    )\n",
        ")\n",
        "print()\n",
        "print(\"Final circuit parameters = \\n\", params)"
      ]
    },
    {
      "cell_type": "markdown",
      "metadata": {},
      "source": [
        "Visualizing the results\n",
        "=======================\n",
        "\n",
        "To evaluate the performance of our two optimizers, we can compare: (a)\n",
        "the number of steps it takes to reach our ground state estimate and (b)\n",
        "the quality of our ground state estimate by comparing the final\n",
        "optimization energy to the exact value.\n"
      ]
    },
    {
      "cell_type": "code",
      "execution_count": 23,
      "metadata": {
        "collapsed": false
      },
      "outputs": [
        {
          "ename": "NameError",
          "evalue": "name 'qngd_cost' is not defined",
          "output_type": "error",
          "traceback": [
            "\u001b[1;31m---------------------------------------------------------------------------\u001b[0m",
            "\u001b[1;31mNameError\u001b[0m                                 Traceback (most recent call last)",
            "\u001b[1;32m<ipython-input-23-4b61e4674c8d>\u001b[0m in \u001b[0;36m<module>\u001b[1;34m\u001b[0m\n\u001b[0;32m      1\u001b[0m \u001b[0mplt\u001b[0m\u001b[1;33m.\u001b[0m\u001b[0mstyle\u001b[0m\u001b[1;33m.\u001b[0m\u001b[0muse\u001b[0m\u001b[1;33m(\u001b[0m\u001b[1;34m\"seaborn\"\u001b[0m\u001b[1;33m)\u001b[0m\u001b[1;33m\u001b[0m\u001b[1;33m\u001b[0m\u001b[0m\n\u001b[0;32m      2\u001b[0m \u001b[0mplt\u001b[0m\u001b[1;33m.\u001b[0m\u001b[0mplot\u001b[0m\u001b[1;33m(\u001b[0m\u001b[0mnp\u001b[0m\u001b[1;33m.\u001b[0m\u001b[0marray\u001b[0m\u001b[1;33m(\u001b[0m\u001b[0mgd_cost\u001b[0m\u001b[1;33m)\u001b[0m \u001b[1;33m-\u001b[0m \u001b[0mexact_value\u001b[0m\u001b[1;33m,\u001b[0m \u001b[1;34m\"g\"\u001b[0m\u001b[1;33m,\u001b[0m \u001b[0mlabel\u001b[0m\u001b[1;33m=\u001b[0m\u001b[1;34m\"Gradient descent\"\u001b[0m\u001b[1;33m)\u001b[0m\u001b[1;33m\u001b[0m\u001b[1;33m\u001b[0m\u001b[0m\n\u001b[1;32m----> 3\u001b[1;33m \u001b[0mplt\u001b[0m\u001b[1;33m.\u001b[0m\u001b[0mplot\u001b[0m\u001b[1;33m(\u001b[0m\u001b[0mnp\u001b[0m\u001b[1;33m.\u001b[0m\u001b[0marray\u001b[0m\u001b[1;33m(\u001b[0m\u001b[0mqngd_cost\u001b[0m\u001b[1;33m)\u001b[0m \u001b[1;33m-\u001b[0m \u001b[0mexact_value\u001b[0m\u001b[1;33m,\u001b[0m \u001b[1;34m\"k\"\u001b[0m\u001b[1;33m,\u001b[0m \u001b[0mlabel\u001b[0m\u001b[1;33m=\u001b[0m\u001b[1;34m\"Quantum natural gradient descent\"\u001b[0m\u001b[1;33m)\u001b[0m\u001b[1;33m\u001b[0m\u001b[1;33m\u001b[0m\u001b[0m\n\u001b[0m\u001b[0;32m      4\u001b[0m \u001b[0mplt\u001b[0m\u001b[1;33m.\u001b[0m\u001b[0myscale\u001b[0m\u001b[1;33m(\u001b[0m\u001b[1;34m\"log\"\u001b[0m\u001b[1;33m)\u001b[0m\u001b[1;33m\u001b[0m\u001b[1;33m\u001b[0m\u001b[0m\n\u001b[0;32m      5\u001b[0m \u001b[0mplt\u001b[0m\u001b[1;33m.\u001b[0m\u001b[0mylabel\u001b[0m\u001b[1;33m(\u001b[0m\u001b[1;34m\"Energy difference\"\u001b[0m\u001b[1;33m)\u001b[0m\u001b[1;33m\u001b[0m\u001b[1;33m\u001b[0m\u001b[0m\n",
            "\u001b[1;31mNameError\u001b[0m: name 'qngd_cost' is not defined"
          ]
        },
        {
          "data": {
            "image/png": "[encoded data removed]",
            "text/plain": [
              "<Figure size 576x396 with 1 Axes>"
            ]
          },
          "metadata": {},
          "output_type": "display_data"
        }
      ],
      "source": [
        "plt.style.use(\"seaborn\")\n",
        "plt.plot(np.array(gd_cost) - exact_value, \"g\", label=\"Gradient descent\")\n",
        "plt.plot(np.array(qngd_cost) - exact_value, \"k\", label=\"Quantum natural gradient descent\")\n",
        "plt.yscale(\"log\")\n",
        "plt.ylabel(\"Energy difference\")\n",
        "plt.xlabel(\"Step\")\n",
        "plt.legend()\n",
        "plt.show()"
      ]
    },
    {
      "cell_type": "markdown",
      "metadata": {},
      "source": [
        "We see that by employing quantum natural gradients, it takes fewer steps\n",
        "to reach a ground state estimate and the optimized energy achieved by\n",
        "the optimizer is lower than that obtained using vanilla gradient\n",
        "descent.\n"
      ]
    },
    {
      "cell_type": "markdown",
      "metadata": {},
      "source": [
        "Robustness in parameter initialization\n",
        "======================================\n",
        "\n",
        "While results above show a more rapid convergence for quantum natural\n",
        "gradients, what if we were just lucky, i.e., we started at a \"good\"\n",
        "point in parameter space? How do we know this will be the case with high\n",
        "probability regardless of the parameter initialization?\n",
        "\n",
        "Using the same system Hamiltonian, ansatz, and device, we tested the\n",
        "robustness of the `QNGOptimizer` by running 10 independent trials with\n",
        "random parameter initializations. For this numerical test, our optimizer\n",
        "does not terminate based on energy improvement; we fix the number of\n",
        "iterations to 200. We show the result of this test below (after\n",
        "pre-computing), where we plot the mean and standard deviation of the\n",
        "energies over optimization steps for quantum natural gradient and\n",
        "standard gradient descent.\n",
        "\n",
        "![](../demonstrations/vqe_qng/k_runs_.png){width=\"60%\"}\n",
        "\n",
        "We observe that quantum natural gradient on average converges faster for\n",
        "this system.\n",
        "\n",
        "> **note**\n",
        ">\n",
        "> While using QNG may help accelerate the VQE algorithm in terms of\n",
        "> optimization steps, each QNG step is more costly than its vanilla\n",
        "> gradient descent counterpart due to a greater number of calls to the\n",
        "> quantum computer that are needed to compute the Fubini-Study metric\n",
        "> tensor.\n",
        "\n",
        "While further benchmark studies are needed to better understand the\n",
        "advantages of quantum natural gradient, preliminary studies such as this\n",
        "tutorial show the potentials of the method. 🎉\n"
      ]
    },
    {
      "cell_type": "markdown",
      "metadata": {},
      "source": [
        "References\n",
        "==========\n"
      ]
    }
  ],
  "metadata": {
    "kernelspec": {
      "display_name": "Python 3",
      "language": "python",
      "name": "python3"
    },
    "language_info": {
      "codemirror_mode": {
        "name": "ipython",
        "version": 3
      },
      "file_extension": ".py",
      "mimetype": "text/x-python",
      "name": "python",
      "nbconvert_exporter": "python",
      "pygments_lexer": "ipython3",
      "version": "3.8.8"
    }
  },
  "nbformat": 4,
  "nbformat_minor": 0
}
