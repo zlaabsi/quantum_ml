{
  "cells": [
    {
      "cell_type": "code",
      "execution_count": 2,
      "metadata": {
        "collapsed": false
      },
      "outputs": [],
      "source": [
        "# This cell is added by sphinx-gallery\n",
        "# It can be customized to whatever you like\n",
        "%matplotlib inline"
      ]
    },
    {
      "cell_type": "markdown",
      "metadata": {},
      "source": [
        "Accelerating VQEs with quantum natural gradient\n",
        "===============================================\n",
        "\n",
        "*Authors: Maggie Li, Lana Bozanic, Sukin Sim (<ssim@g.harvard.edu>).\n",
        "Last updated: 8 Apr 2021.*\n",
        "\n",
        "This tutorial showcases how one can apply quantum natural gradients\n",
        "(QNG) \\[\\#stokes2019\\]\\_ \\[\\#yamamoto2019\\]\\_ to accelerate the\n",
        "optimization step of the Variational Quantum Eigensolver (VQE) algorithm\n",
        "\\[\\#peruzzo2014\\]\\_. We will implement two small examples: estimating\n",
        "the ground state energy of (1) a single-qubit VQE problem, which we can\n",
        "visualize using the Bloch sphere, and (2) the hydrogen molecule.\n",
        "\n",
        "Before going through this tutorial, we recommend that readers refer to\n",
        "the QNG tutorial &lt;/demos/tutorial\\_quantum\\_natural\\_gradient&gt; and\n",
        "VQE tutorial &lt;/demos/tutorial\\_vqe&gt; for overviews of quantum\n",
        "natural gradient and the variational quantum eigensolver algorithm,\n",
        "respectively. Let's get started!\n",
        "\n",
        "(1) Single-qubit VQE example\n",
        "----------------------------\n",
        "\n",
        "The first step is to import the required libraries and packages:\n"
      ]
    },
    {
      "cell_type": "code",
      "execution_count": 3,
      "metadata": {
        "collapsed": false
      },
      "outputs": [],
      "source": [
        "import matplotlib.pyplot as plt\n",
        "from pennylane import numpy as np\n",
        "import pennylane as qml"
      ]
    },
    {
      "cell_type": "markdown",
      "metadata": {},
      "source": [
        "For this simple example, we consider the following single-qubit\n",
        "Hamiltonian: $\\sigma_x + \\sigma_z$.\n",
        "\n",
        "We define the device:\n"
      ]
    },
    {
      "cell_type": "code",
      "execution_count": 4,
      "metadata": {
        "collapsed": false
      },
      "outputs": [],
      "source": [
        "dev = qml.device(\"default.qubit\", wires=1)"
      ]
    },
    {
      "cell_type": "markdown",
      "metadata": {},
      "source": [
        "For the variational ansatz, we use two single-qubit rotations, which the\n",
        "user may recognize from a previous\n",
        "tutorial &lt;/demos/tutorial\\_qubit\\_rotation&gt; on qubit rotations.\n"
      ]
    },
    {
      "cell_type": "code",
      "execution_count": 5,
      "metadata": {
        "collapsed": false
      },
      "outputs": [],
      "source": [
        "def circuit(params, wires=0):\n",
        "    qml.RX(params[0], wires=wires)\n",
        "    qml.RY(params[1], wires=wires)"
      ]
    },
    {
      "cell_type": "markdown",
      "metadata": {},
      "source": [
        "We then define our cost function which supports the computation of\n",
        "block-diagonal or diagonal approximations to the Fubini-Study metric\n",
        "tensor \\[\\#stokes2019\\]\\_. This tensor is a crucial component for\n",
        "optimizing with quantum natural gradients.\n"
      ]
    },
    {
      "cell_type": "code",
      "execution_count": 6,
      "metadata": {
        "collapsed": false
      },
      "outputs": [],
      "source": [
        "coeffs = [1, 1]\n",
        "obs = [qml.PauliX(0), qml.PauliZ(0)]\n",
        "\n",
        "H = qml.Hamiltonian(coeffs, obs)\n",
        "\n",
        "@qml.qnode(dev)\n",
        "def cost_fn(params):\n",
        "    circuit(params)\n",
        "    return qml.expval(H)"
      ]
    },
    {
      "cell_type": "markdown",
      "metadata": {},
      "source": [
        "To analyze the performance of quantum natural gradient on VQE\n",
        "calculations, we set up and execute optimizations using the\n",
        "`GradientDescentOptimizer` (which does not utilize quantum gradients)\n",
        "and the `QNGOptimizer` that uses the block-diagonal approximation to the\n",
        "metric tensor.\n",
        "\n",
        "To perform a fair comparison, we fix the initial parameters for the two\n",
        "optimizers.\n"
      ]
    },
    {
      "cell_type": "code",
      "execution_count": 7,
      "metadata": {
        "collapsed": false
      },
      "outputs": [],
      "source": [
        "init_params = np.array([3.97507603, 3.00854038], requires_grad=True)"
      ]
    },
    {
      "cell_type": "markdown",
      "metadata": {},
      "source": [
        "We will carry out each optimization over a maximum of 500 steps. As was\n",
        "done in the VQE tutorial, we aim to reach a convergence tolerance of\n",
        "around $10^{-6}$. We use a step size of 0.01.\n"
      ]
    },
    {
      "cell_type": "code",
      "execution_count": 8,
      "metadata": {
        "collapsed": false
      },
      "outputs": [],
      "source": [
        "max_iterations = 500\n",
        "conv_tol = 1e-06\n",
        "step_size = 0.01"
      ]
    },
    {
      "cell_type": "markdown",
      "metadata": {},
      "source": [
        "First, we carry out the VQE optimization using the standard gradient\n",
        "descent method.\n"
      ]
    },
    {
      "cell_type": "code",
      "execution_count": 9,
      "metadata": {
        "collapsed": false
      },
      "outputs": [
        {
          "name": "stdout",
          "output_type": "stream",
          "text": [
            "Iteration = 0,  Energy = 0.56743624 Ha,  Convergence parameter = 0.00973536 Ha\n",
            "Iteration = 20,  Energy = 0.38709233 Ha,  Convergence parameter = 0.00821261 Ha\n",
            "Iteration = 40,  Energy = 0.24420954 Ha,  Convergence parameter = 0.00616395 Ha\n",
            "Iteration = 60,  Energy = 0.14079686 Ha,  Convergence parameter = 0.00435028 Ha\n",
            "Iteration = 80,  Energy = 0.06758408 Ha,  Convergence parameter = 0.00314443 Ha\n",
            "Iteration = 100,  Energy = 0.01128048 Ha,  Convergence parameter = 0.00262544 Ha\n",
            "Iteration = 120,  Energy = -0.04175219 Ha,  Convergence parameter = 0.00278160 Ha\n",
            "Iteration = 140,  Energy = -0.10499504 Ha,  Convergence parameter = 0.00361450 Ha\n",
            "Iteration = 160,  Energy = -0.19195848 Ha,  Convergence parameter = 0.00511056 Ha\n",
            "Iteration = 180,  Energy = -0.31444953 Ha,  Convergence parameter = 0.00708743 Ha\n",
            "Iteration = 200,  Energy = -0.47706980 Ha,  Convergence parameter = 0.00900220 Ha\n",
            "Iteration = 220,  Energy = -0.66993027 Ha,  Convergence parameter = 0.01001574 Ha\n",
            "Iteration = 240,  Energy = -0.86789981 Ha,  Convergence parameter = 0.00955105 Ha\n",
            "Iteration = 260,  Energy = -1.04241317 Ha,  Convergence parameter = 0.00783834 Ha\n",
            "Iteration = 280,  Energy = -1.17653061 Ha,  Convergence parameter = 0.00567546 Ha\n",
            "Iteration = 300,  Energy = -1.26906291 Ha,  Convergence parameter = 0.00374812 Ha\n",
            "Iteration = 320,  Energy = -1.32823089 Ha,  Convergence parameter = 0.00232769 Ha\n",
            "Iteration = 340,  Energy = -1.36424033 Ha,  Convergence parameter = 0.00139097 Ha\n",
            "Iteration = 360,  Energy = -1.38549883 Ha,  Convergence parameter = 0.00081221 Ha\n",
            "Iteration = 380,  Energy = -1.39782393 Ha,  Convergence parameter = 0.00046788 Ha\n",
            "Iteration = 400,  Energy = -1.40489478 Ha,  Convergence parameter = 0.00026743 Ha\n",
            "Iteration = 420,  Energy = -1.40892679 Ha,  Convergence parameter = 0.00015217 Ha\n",
            "Iteration = 440,  Energy = -1.41121801 Ha,  Convergence parameter = 0.00008637 Ha\n",
            "Iteration = 460,  Energy = -1.41251745 Ha,  Convergence parameter = 0.00004895 Ha\n",
            "Iteration = 480,  Energy = -1.41325360 Ha,  Convergence parameter = 0.00002772 Ha\n",
            "\n",
            "Final value of the energy = -1.41365468 Ha\n",
            "Number of iterations =  499\n"
          ]
        }
      ],
      "source": [
        "opt = qml.GradientDescentOptimizer(stepsize=step_size)\n",
        "\n",
        "params = init_params\n",
        "\n",
        "gd_param_history = [params]\n",
        "gd_cost_history = []\n",
        "\n",
        "for n in range(max_iterations):\n",
        "\n",
        "    # Take step\n",
        "    params, prev_energy = opt.step_and_cost(cost_fn, params)\n",
        "    gd_param_history.append(params)\n",
        "    gd_cost_history.append(prev_energy)\n",
        "\n",
        "    energy = cost_fn(params)\n",
        "\n",
        "    # Calculate difference between new and old energies\n",
        "    conv = np.abs(energy - prev_energy)\n",
        "\n",
        "    if n % 20 == 0:\n",
        "        print(\n",
        "            \"Iteration = {:},  Energy = {:.8f} Ha,  Convergence parameter = {\"\n",
        "            \":.8f} Ha\".format(n, energy, conv)\n",
        "        )\n",
        "\n",
        "    if conv <= conv_tol:\n",
        "        break\n",
        "\n",
        "print()\n",
        "print(\"Final value of the energy = {:.8f} Ha\".format(energy))\n",
        "print(\"Number of iterations = \", n)"
      ]
    },
    {
      "cell_type": "markdown",
      "metadata": {},
      "source": [
        "We then repeat the process for the optimizer employing quantum natural\n",
        "gradients:\n"
      ]
    },
    {
      "cell_type": "code",
      "execution_count": 10,
      "metadata": {
        "collapsed": false
      },
      "outputs": [
        {
          "name": "stdout",
          "output_type": "stream",
          "text": [
            "Iteration = 0,  Energy = 0.51052556 Ha,  Convergence parameter = 0.06664604 Ha\n",
            "Iteration = 20,  Energy = -0.90729965 Ha,  Convergence parameter = 0.05006082 Ha\n",
            "Iteration = 40,  Energy = -1.35504644 Ha,  Convergence parameter = 0.00713113 Ha\n",
            "Iteration = 60,  Energy = -1.40833787 Ha,  Convergence parameter = 0.00072399 Ha\n",
            "Iteration = 80,  Energy = -1.41364035 Ha,  Convergence parameter = 0.00007078 Ha\n",
            "Iteration = 100,  Energy = -1.41415774 Ha,  Convergence parameter = 0.00000689 Ha\n",
            "\n",
            "Final value of the energy = -1.41420585 Ha\n",
            "Number of iterations =  117\n"
          ]
        }
      ],
      "source": [
        "opt = qml.QNGOptimizer(stepsize=step_size, approx=\"block-diag\")\n",
        "\n",
        "params = init_params\n",
        "\n",
        "qngd_param_history = [params]\n",
        "qngd_cost_history = []\n",
        "\n",
        "for n in range(max_iterations):\n",
        "\n",
        "    # Take step\n",
        "    params, prev_energy = opt.step_and_cost(cost_fn, params)\n",
        "    qngd_param_history.append(params)\n",
        "    qngd_cost_history.append(prev_energy)\n",
        "\n",
        "    # Compute energy\n",
        "    energy = cost_fn(params)\n",
        "\n",
        "    # Calculate difference between new and old energies\n",
        "    conv = np.abs(energy - prev_energy)\n",
        "\n",
        "    if n % 20 == 0:\n",
        "        print(\n",
        "            \"Iteration = {:},  Energy = {:.8f} Ha,  Convergence parameter = {\"\n",
        "            \":.8f} Ha\".format(n, energy, conv)\n",
        "        )\n",
        "\n",
        "    if conv <= conv_tol:\n",
        "        break\n",
        "\n",
        "print()\n",
        "print(\"Final value of the energy = {:.8f} Ha\".format(energy))\n",
        "print(\"Number of iterations = \", n)"
      ]
    },
    {
      "cell_type": "markdown",
      "metadata": {},
      "source": [
        "Visualizing the results\n",
        "=======================\n",
        "\n",
        "For single-qubit examples, we can visualize the optimization process in\n",
        "several ways.\n",
        "\n",
        "For example, we can track the energy history:\n"
      ]
    },
    {
      "cell_type": "code",
      "execution_count": 11,
      "metadata": {
        "collapsed": false
      },
      "outputs": [
        {
          "data": {
            "image/png": "[encoded data removed]",
            "text/plain": [
              "<Figure size 576x396 with 1 Axes>"
            ]
          },
          "metadata": {},
          "output_type": "display_data"
        }
      ],
      "source": [
        "plt.style.use(\"seaborn\")\n",
        "plt.plot(gd_cost_history, \"b\", label=\"Gradient descent\")\n",
        "plt.plot(qngd_cost_history, \"g\", label=\"Quantum natural gradient descent\")\n",
        "\n",
        "plt.ylabel(\"Cost function value\")\n",
        "plt.xlabel(\"Optimization steps\")\n",
        "plt.legend()\n",
        "plt.show()"
      ]
    },
    {
      "cell_type": "markdown",
      "metadata": {},
      "source": [
        "Or we can visualize the optimization path in the parameter space using a\n",
        "contour plot. Energies at different grid points have been pre-computed,\n",
        "and they can be downloaded by clicking\n",
        "here&lt;../demonstrations/vqe\\_qng/param\\_landscape.npy&gt;.\n"
      ]
    },
    {
      "cell_type": "code",
      "execution_count": 15,
      "metadata": {
        "collapsed": false
      },
      "outputs": [
        {
          "data": {
            "image/png": "[encoded data removed]",
            "text/plain": [
              "<Figure size 432x432 with 1 Axes>"
            ]
          },
          "metadata": {},
          "output_type": "display_data"
        }
      ],
      "source": [
        "# Discretize the parameter space\n",
        "theta0 = np.linspace(0.0, 2.0 * np.pi, 100)\n",
        "theta1 = np.linspace(0.0, 2.0 * np.pi, 100)\n",
        "\n",
        "# Load energy value at each point in parameter space\n",
        "parameter_landscape = np.load(\"param_landscape.npy\")\n",
        "\n",
        "# Plot energy landscape\n",
        "fig, axes = plt.subplots(figsize=(6, 6))\n",
        "cmap = plt.cm.get_cmap(\"coolwarm\")\n",
        "contour_plot = plt.contourf(theta0, theta1, parameter_landscape, cmap=cmap)\n",
        "plt.xlabel(r\"$\\theta_0$\")\n",
        "plt.ylabel(r\"$\\theta_1$\")\n",
        "\n",
        "# Plot optimization path for gradient descent. Plot every 10th point.\n",
        "gd_color = \"g\"\n",
        "plt.plot(\n",
        "    np.array(gd_param_history)[::10, 0],\n",
        "    np.array(gd_param_history)[::10, 1],\n",
        "    \".\",\n",
        "    color=gd_color,\n",
        "    linewidth=1,\n",
        "    label=\"Gradient descent\",\n",
        ")\n",
        "plt.plot(\n",
        "    np.array(gd_param_history)[:, 0],\n",
        "    np.array(gd_param_history)[:, 1],\n",
        "    \"-\",\n",
        "    color=gd_color,\n",
        "    linewidth=1,\n",
        ")\n",
        "\n",
        "# Plot optimization path for quantum natural gradient descent. Plot every 10th point.\n",
        "qngd_color = \"k\"\n",
        "plt.plot(\n",
        "    np.array(qngd_param_history)[::10, 0],\n",
        "    np.array(qngd_param_history)[::10, 1],\n",
        "    \".\",\n",
        "    color=qngd_color,\n",
        "    linewidth=1,\n",
        "    label=\"Quantum natural gradient descent\",\n",
        ")\n",
        "plt.plot(\n",
        "    np.array(qngd_param_history)[:, 0],\n",
        "    np.array(qngd_param_history)[:, 1],\n",
        "    \"-\",\n",
        "    color=qngd_color,\n",
        "    linewidth=1,\n",
        ")\n",
        "\n",
        "plt.legend()\n",
        "plt.show()"
      ]
    },
    {
      "cell_type": "markdown",
      "metadata": {},
      "source": [
        "Here, the blue regions indicate states with lower energies, and the red\n",
        "regions indicate states with higher energies. We can see that the\n",
        "`QNGOptimizer` takes a more direct route to the minimum in larger\n",
        "strides compared to the path taken by the `GradientDescentOptimizer`.\n",
        "\n",
        "Lastly, we can visualize the same optimization paths on the Bloch sphere\n",
        "using routines from [QuTiP](http://qutip.org/). The result should look\n",
        "like the following:\n",
        "\n",
        "![](/demonstrations/vqe_qng/opt_paths_bloch.png){width=\"50%\"}\n",
        "\n",
        "where again the black markers and line indicate the path taken by the\n",
        "`QNGOptimizer`, and the green markers and line indicate the path taken\n",
        "by the `GradientDescentOptimizer`. Using this visualization method, we\n",
        "can clearly see how the path using the `QNGOptimizer` tightly \"hugs\" the\n",
        "curvature of the Bloch sphere and takes the shorter path.\n",
        "\n",
        "Now, we will move onto a more interesting example: estimating the ground\n",
        "state energy of molecular hydrogen.\n",
        "\n"
      ]
    },
    {
      "cell_type": "markdown",
      "metadata": {},
      "source": [
        "References\n",
        "==========\n",
        "*Authors: Maggie Li, Lana Bozanic, Sukin Sim (<ssim@g.harvard.edu>).\n",
        "Last updated: 8 Apr 2021.*\n"
      ]
    }
  ],
  "metadata": {
    "kernelspec": {
      "display_name": "Python 3",
      "language": "python",
      "name": "python3"
    },
    "language_info": {
      "codemirror_mode": {
        "name": "ipython",
        "version": 3
      },
      "file_extension": ".py",
      "mimetype": "text/x-python",
      "name": "python",
      "nbconvert_exporter": "python",
      "pygments_lexer": "ipython3",
      "version": "3.8.8"
    }
  },
  "nbformat": 4,
  "nbformat_minor": 0
}
